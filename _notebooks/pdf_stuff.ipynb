{
 "cells": [
  {
   "cell_type": "code",
   "execution_count": 3,
   "id": "portable-vertex",
   "metadata": {},
   "outputs": [],
   "source": [
    "import os\n",
    "import sys\n",
    "from PyPDF2 import PdfFileReader\n",
    "import pdfrw"
   ]
  },
  {
   "cell_type": "code",
   "execution_count": 4,
   "id": "impressed-school",
   "metadata": {},
   "outputs": [],
   "source": [
    "import pdfplumber\n",
    "import pdfminer3"
   ]
  },
  {
   "cell_type": "code",
   "execution_count": 5,
   "id": "political-paintball",
   "metadata": {},
   "outputs": [
    {
     "data": {
      "text/plain": [
       "['dol-data.pdf']"
      ]
     },
     "execution_count": 5,
     "metadata": {},
     "output_type": "execute_result"
    }
   ],
   "source": [
    "pdf_files = [f for f in os.listdir() if f.endswith(\".pdf\")]\n",
    "pdf_files"
   ]
  },
  {
   "cell_type": "code",
   "execution_count": 8,
   "id": "written-debut",
   "metadata": {},
   "outputs": [
    {
     "name": "stdout",
     "output_type": "stream",
     "text": [
      "  \n",
      "Pandemic Unemployment Assistance Claims - Not Seasonally Adjusted \n",
      "   \n",
      "PUA Initial Claims Filed During Week Ended March 27  PUA Continued Claims For Week Ended Mar 13 \n",
      "         \n",
      "STATE    Advance  Prior Wk  Change          Mar 13  Mar 6  Change \n",
      "Alabama     3,215  2,634  581          28,432  30,701  -2,269 \n",
      "Alaska     503  684  -181          9,308  9,576  -268 \n",
      "Arizona     0  0  0          0  83,237  -83,237 \n",
      "Arkansas     757  681  76          42,417  43,435  -1,018 \n",
      "California     16,635  20,780  -4,145          963,535  1,633,490  -669,955 \n",
      "Colorado     1,747  1,922  -175          50,535  50,077  458 \n",
      "Connecticut     332  408  -76          39,296  38,636  660 \n",
      "Delaware     59  52  7          5,632  5,299  333 \n",
      "District of Columbia     82  117  -35          15,233  16,238  -1,005 \n",
      "Florida     4,944  3,886  1,058          0  0  0 \n",
      "Georgia     1,989  2,007  -18          226,740  191,577  35,163 \n",
      "Hawaii     573  620  -47          39,082  39,797  -715 \n",
      "Idaho     84  78  6          6,934  7,087  -153 \n",
      "Illinois     2,440  4,993  -2,553          173,988  189,271  -15,283 \n",
      "Indiana     10,630  11,790  -1,160          162,605  259,888  -97,283 \n",
      "Iowa     709  605  104          11,698  12,325  -627 \n",
      "Kansas     330  313  17          16,345  16,524  -179 \n",
      "Kentucky     19,625  12,352  7,273          22,075  25,231  -3,156 \n",
      "Louisiana     3,229  2,630  599          105,050  99,916  5,134 \n",
      "Maine     366  295  71          13,133  13,562  -429 \n",
      "Maryland     1,938  13,570  -11,632          320,302  298,049  22,253 \n",
      "Massachusetts     3,090  3,358  -268          285,437  287,934  -2,497 \n",
      "Michigan     5,907  742  5,165          475,651  256,063  219,588 \n",
      "Minnesota     3  3  0          41,745  41,642  103 \n",
      "Mississippi     508  860  -352          38,362  30,229  8,133 \n",
      "Missouri     999  588  411          41,447  41,940  -493 \n",
      "Montana     556  1,272  -716          15,119  15,200  -81 \n",
      "Nebraska     63  73  -10          2,990  3,231  -241 \n",
      "Nevada     746  2,973  -2,227          69,945  74,370  -4,425 \n",
      "New Hampshire     144  144  0          9,025  9,277  -252 \n",
      "New Jersey     5,596  4,491  1,105          348,815  356,013  -7,198 \n",
      "New Mexico     1,365  1,806  -441          36,510  37,006  -496 \n",
      "New York     4,521  41,705  -37,184          1,311,947  1,281,018  30,929 \n",
      "North Carolina     2,555  3,430  -875          92,659  94,612  -1,953 \n",
      "North Dakota     257  120  137          3,352  3,002  350 \n",
      "Ohio     88,777  19,698  69,079          385,277  493,508  -108,231 \n",
      "Oklahoma     715  364  351          20,230  20,250  -20 \n",
      "Oregon     3,098  6,809  -3,711          150,324  226,759  -76,435 \n",
      "Pennsylvania     14,603  14,355  248          445,639  422,067  23,572 \n",
      "Puerto Rico     13,070  37,452  -24,382          496,107  228,452  267,655 \n",
      "Rhode Island     2,104  1,716  388          38,622  39,552  -930 \n",
      "South Carolina     1,662  1,721  -59          51,532  52,207  -675 \n",
      "South Dakota     13  8  5          749  474  275 \n",
      "Tennessee     1,793  1,892  -99          61,808  65,922  -4,114 \n",
      "Texas     4,946  5,388  -442          369,892  536,563  -166,671 \n",
      "Utah     404  366  38          1,657  1,816  -159 \n",
      "Vermont     54  61  -7          8,714  8,809  -95 \n",
      "Virgin Islands     22  43  -21          0  0  0 \n",
      "Virginia     3,807  2,379  1,428          169,294  25,551  143,743 \n",
      "Washington     2,407  3,389  -982          103,634  104,740  -1,106 \n",
      "West Virginia     987  1,255  -268          8,970  9,609  -639 \n",
      "Wisconsin     2,022  2,240  -218          10,444  11,534  -1,090 \n",
      "Wyoming     44  19  25          1,426  1,601  -175 \n",
      "US Total  237,025  241,137  -4,112  7,349,663  7,844,867  -495,204 \n",
      " \n",
      "Note: Information on the Pandemic Unemployment Assistance (PUA) program can be found in UIPL 16-20: PUA \n",
      "Program information. Backdated claims may be included in these figures.  \n",
      "7 \n",
      " \n"
     ]
    }
   ],
   "source": [
    "import pdfplumber\n",
    "with pdfplumber.open(pdf_files[0]) as pdf:\n",
    "    first_page = pdf.pages[6]\n",
    "    print(first_page.extract_text())"
   ]
  },
  {
   "cell_type": "code",
   "execution_count": null,
   "id": "worldwide-contrast",
   "metadata": {},
   "outputs": [],
   "source": [
    "from pdfrw import PdfReader\n",
    "x = PdfReader(pdf_files[0])\n",
    "p = x.pages[6]\n",
    "p.keys()\n",
    "p.text"
   ]
  },
  {
   "cell_type": "code",
   "execution_count": null,
   "id": "later-tobacco",
   "metadata": {},
   "outputs": [],
   "source": [
    "pdf = PdfFileReader(pdf_files[0])\n",
    "information = pdf.getDocumentInfo()\n",
    "number_of_pages = pdf.getNumPages()"
   ]
  },
  {
   "cell_type": "code",
   "execution_count": null,
   "id": "accepted-discharge",
   "metadata": {},
   "outputs": [],
   "source": [
    "for pi in range(12):\n",
    "  pg = pdf.getPage(pi)\n",
    "  #print(pg.extractText())\n",
    "  print(dir(pg))\n",
    "  break"
   ]
  },
  {
   "cell_type": "code",
   "execution_count": null,
   "id": "incident-front",
   "metadata": {},
   "outputs": [],
   "source": [
    "pi = 6\n",
    "pg = pdf.getPage(pi)\n",
    "txt = pg.extractText()\n",
    "N = 300\n",
    "print(txt[:N])\n",
    "for i in range(N):\n",
    "  print(\"<{0}>\".format(txt[i]))"
   ]
  },
  {
   "cell_type": "code",
   "execution_count": null,
   "id": "existing-filter",
   "metadata": {},
   "outputs": [],
   "source": []
  }
 ],
 "metadata": {
  "kernelspec": {
   "display_name": "payems",
   "language": "python",
   "name": "payems"
  },
  "language_info": {
   "codemirror_mode": {
    "name": "ipython",
    "version": 3
   },
   "file_extension": ".py",
   "mimetype": "text/x-python",
   "name": "python",
   "nbconvert_exporter": "python",
   "pygments_lexer": "ipython3",
   "version": "3.9.2"
  }
 },
 "nbformat": 4,
 "nbformat_minor": 5
}
