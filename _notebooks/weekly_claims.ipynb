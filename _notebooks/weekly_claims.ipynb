{
 "cells": [
  {
   "cell_type": "markdown",
   "metadata": {},
   "source": [
    "# Part 4 - New data on Weekly Claims\n",
    "\n",
    "- toc: True\n",
    "- badges: true\n",
    "- comments: true\n",
    "- categories: [jupyter]"
   ]
  },
  {
   "cell_type": "markdown",
   "metadata": {},
   "source": [
    "I was scanning a WSJ article today on jobless claims, \n",
    "https://www.wsj.com/articles/weekly-jobless-claims-coronavirus-10-29-2020-11603921724?modtag=djemBestOfTheWeb\n",
    "The article started by claiming that initial claims filings had fallen to their lowest level since the pandemic began.\n",
    "This didn't seem interesting because according to FRED you could have been saying that since May.\n",
    "Seems like saying I am as old as I've ever been. But then I noticed a chart showing \n",
    "claims under Regular state programs *plus* claims under special pandemic programs ... and for continued claims the special pandemic numbers were about the same as the regular ones.  Uh oh, so the claims could be 2x what I would get from FRED and the normal BLS data.  I could not find any data on these new plans on FRED but did find a spreadsheet on the Department of Labor website, see https://oui.doleta.gov/unemploy/DataDashboard.asp\n",
    "\n",
    "The data might be available on the DOL or BLS site via some API. Not sure yet.\n",
    "In any case, in this post I will read in that data and plot it.  Later I will figure out how to integreate it with the rest.\n"
   ]
  },
  {
   "cell_type": "code",
   "execution_count": 1,
   "metadata": {
    "ExecuteTime": {
     "end_time": "2020-11-23T20:54:29.246279Z",
     "start_time": "2020-11-23T20:54:29.239278Z"
    }
   },
   "outputs": [],
   "source": [
    "import os\n",
    "import sys\n",
    "import inspect\n",
    "import datetime\n",
    "import pandas as pd\n",
    "import numpy as np\n",
    "import time\n",
    "from plotnine import ggplot\n",
    "import matplotlib as mpl\n",
    "import xlrd\n",
    "import matplotlib.pyplot as plt\n",
    "import selenium\n",
    "from selenium import webdriver\n",
    "from selenium.webdriver.support.ui import Select\n",
    "import pathlib\n",
    "import shutil"
   ]
  },
  {
   "cell_type": "markdown",
   "metadata": {},
   "source": [
    "Print out the versions for Python and non standard library modules"
   ]
  },
  {
   "cell_type": "code",
   "execution_count": 2,
   "metadata": {
    "ExecuteTime": {
     "end_time": "2020-11-23T20:54:31.639160Z",
     "start_time": "2020-11-23T20:54:31.632182Z"
    }
   },
   "outputs": [
    {
     "name": "stdout",
     "output_type": "stream",
     "text": [
      "version 3.8.5 of Python\n",
      "version 1.1.3 of pd\n",
      "version 1.19.3 of np\n",
      "version 3.3.3 of mpl\n",
      "version 1.2.0 of xlrd\n",
      "version 3.141.0 of selenium\n",
      "version 3.14.1 of webdriver\n"
     ]
    }
   ],
   "source": [
    "mlist = list(filter(lambda x: inspect.ismodule(x[1]), locals().items()))\n",
    "vi = sys.version_info\n",
    "print(\"version {0}.{1}.{2} of Python\".format(vi.major, vi.minor, vi.micro))\n",
    "for name, mod in mlist:\n",
    "    if name.startswith(\"__\"):\n",
    "        continue\n",
    "    if hasattr(mod, \"__version__\"):\n",
    "        print(\"version {1} of {0}\".format(name, mod.__version__))\n",
    "del mod\n",
    "del name"
   ]
  },
  {
   "cell_type": "markdown",
   "metadata": {},
   "source": [
    "## Selenium \n",
    "Setup temp directory for download"
   ]
  },
  {
   "cell_type": "code",
   "execution_count": 3,
   "metadata": {
    "ExecuteTime": {
     "end_time": "2020-11-23T20:54:33.535368Z",
     "start_time": "2020-11-23T20:54:33.529369Z"
    }
   },
   "outputs": [],
   "source": [
    "temp_dir = \"./data/temp\"\n",
    "if not os.path.isdir(temp_dir):\n",
    "    os.mkdir(temp_dir)\n",
    "prefs = {\"download.default_directory\" : os.path.abspath(temp_dir)}\n",
    "\n",
    "options = webdriver.ChromeOptions()\n",
    "options.add_experimental_option(\"prefs\",prefs)\n",
    "options.add_argument(\"download.default_directory=\"+os.path.abspath(temp_dir))"
   ]
  },
  {
   "cell_type": "code",
   "execution_count": 4,
   "metadata": {
    "ExecuteTime": {
     "end_time": "2020-11-23T20:54:38.319504Z",
     "start_time": "2020-11-23T20:54:34.307800Z"
    }
   },
   "outputs": [],
   "source": [
    "chromedriver_path = os.path.join('chromedriver.exe')\n",
    "driver = webdriver.Chrome(executable_path=chromedriver_path, options=options)\n",
    "url = \"https://oui.doleta.gov/unemploy/DataDashboard.asp\"\n",
    "driver.get(url)"
   ]
  },
  {
   "cell_type": "code",
   "execution_count": 5,
   "metadata": {
    "ExecuteTime": {
     "end_time": "2020-11-23T20:54:38.335507Z",
     "start_time": "2020-11-23T20:54:38.321502Z"
    }
   },
   "outputs": [],
   "source": [
    "def get_downloaded_fpath(data_dir=None, files_before=None, file_ext=\".csv\",\n",
    "                   max_wait = 10, verbosity=0):\n",
    "    import time\n",
    "    done = False\n",
    "    start_time = datetime.datetime.now()\n",
    "    while not done:\n",
    "        files_after = set(os.listdir(data_dir))\n",
    "        new_files = files_after.difference(set(files_before))\n",
    "        if verbosity > 0:\n",
    "            print(\"Files Before: {0}\".format(files_before))\n",
    "            print(\"Files After: {0}\".format(files_after))\n",
    "            print(\"New Files: {0}\".format(new_files))\n",
    "        if verbosity > 0:\n",
    "            print(new_files)\n",
    "        for fname in new_files:\n",
    "            if os.path.splitext(fname)[1] == file_ext:\n",
    "                return (os.path.join(data_dir, fname))\n",
    "        cur_time = datetime.datetime.now()\n",
    "        if (cur_time - start_time).seconds > max_wait:\n",
    "            return None\n",
    "        time.sleep(0.5)"
   ]
  },
  {
   "cell_type": "code",
   "execution_count": 6,
   "metadata": {
    "ExecuteTime": {
     "end_time": "2020-11-23T20:54:51.094781Z",
     "start_time": "2020-11-23T20:54:47.097485Z"
    }
   },
   "outputs": [
    {
     "name": "stdout",
     "output_type": "stream",
     "text": [
      "new file: ./data/temp\\weekly_pandemic_claims.xlsx\n"
     ]
    }
   ],
   "source": [
    "files_before = set(os.listdir(temp_dir))\n",
    "time.sleep(1)\n",
    "el = driver.find_element_by_link_text(\"NEW: Weekly Pandemic Claims Data\")\n",
    "el.click()\n",
    "downloaded_fpath = get_downloaded_fpath(data_dir=temp_dir, files_before=files_before, file_ext=\".xlsx\", max_wait=3, verbosity=0)\n",
    "if not downloaded_fpath:\n",
    "    raise Exception(\"No downloaded file found!\")\n",
    "print(\"new file: {0}\".format(downloaded_fpath))\n",
    "def clean_filename(fpath):\n",
    "    import re\n",
    "    head, tail = os.path.split(downloaded_fpath)\n",
    "    base, ext = os.path.splitext(tail)\n",
    "    pattern = \"(.*)(\\(\\d*\\))\"\n",
    "    match = re.match(pattern, base)\n",
    "    if  match:\n",
    "        base = match.group(1).strip()\n",
    "    new_fname = base + ext    \n",
    "    return new_fname\n",
    "temp_df = pd.read_excel(downloaded_fpath)\n",
    "data_dir = \"./data\"\n",
    "new_fname = clean_filename(downloaded_fpath)\n",
    "new_fpath = os.path.join(data_dir, new_fname)\n",
    "temp_df.to_csv(new_fpath, index=False)"
   ]
  },
  {
   "cell_type": "code",
   "execution_count": 7,
   "metadata": {
    "ExecuteTime": {
     "end_time": "2020-11-23T20:56:38.135070Z",
     "start_time": "2020-11-23T20:56:38.127067Z"
    }
   },
   "outputs": [],
   "source": [
    "import re\n",
    "head, tail = os.path.split(downloaded_fpath)\n",
    "base, ext = os.path.splitext(tail)\n",
    "pattern = \"(.*)(\\(\\d*\\))\"\n",
    "match = re.match(pattern, base)\n",
    "if  match:\n",
    "    base = match.group(1).strip()\n",
    "new_fname = base + ext"
   ]
  },
  {
   "cell_type": "markdown",
   "metadata": {},
   "source": [
    "## Clean up"
   ]
  },
  {
   "cell_type": "code",
   "execution_count": 8,
   "metadata": {
    "ExecuteTime": {
     "end_time": "2020-11-23T20:48:27.180968Z",
     "start_time": "2020-11-23T20:48:24.809461Z"
    }
   },
   "outputs": [],
   "source": [
    "if os.path.isfile(new_fpath):\n",
    "    # stop driver and remove old directory\n",
    "    driver.quit()\n",
    "    shutil.rmtree(temp_dir)"
   ]
  },
  {
   "cell_type": "markdown",
   "metadata": {},
   "source": [
    "## Read \n",
    "Read in the spreadsheet and get rid of rows with no data for Rptdate"
   ]
  },
  {
   "cell_type": "code",
   "execution_count": 9,
   "metadata": {
    "ExecuteTime": {
     "end_time": "2020-10-30T01:00:05.886058Z",
     "start_time": "2020-10-30T01:00:05.412059Z"
    }
   },
   "outputs": [
    {
     "data": {
      "text/html": [
       "<div>\n",
       "<style scoped>\n",
       "    .dataframe tbody tr th:only-of-type {\n",
       "        vertical-align: middle;\n",
       "    }\n",
       "\n",
       "    .dataframe tbody tr th {\n",
       "        vertical-align: top;\n",
       "    }\n",
       "\n",
       "    .dataframe thead th {\n",
       "        text-align: right;\n",
       "    }\n",
       "</style>\n",
       "<table border=\"1\" class=\"dataframe\">\n",
       "  <thead>\n",
       "    <tr style=\"text-align: right;\">\n",
       "      <th></th>\n",
       "      <th>State</th>\n",
       "      <th>date</th>\n",
       "      <th>PUA IC</th>\n",
       "      <th>Reflect Date</th>\n",
       "      <th>PUA CC</th>\n",
       "      <th>PEUC CC</th>\n",
       "    </tr>\n",
       "  </thead>\n",
       "  <tbody>\n",
       "    <tr>\n",
       "      <th>0</th>\n",
       "      <td>State</td>\n",
       "      <td>Rptdate</td>\n",
       "      <td>PUA IC</td>\n",
       "      <td>Reflect Date</td>\n",
       "      <td>PUA CC</td>\n",
       "      <td>PEUC CC</td>\n",
       "    </tr>\n",
       "    <tr>\n",
       "      <th>1</th>\n",
       "      <td>AL</td>\n",
       "      <td>2020-04-04 00:00:00</td>\n",
       "      <td>0</td>\n",
       "      <td>2020-03-28 00:00:00</td>\n",
       "      <td>0</td>\n",
       "      <td>0</td>\n",
       "    </tr>\n",
       "    <tr>\n",
       "      <th>2</th>\n",
       "      <td>AK</td>\n",
       "      <td>2020-04-04 00:00:00</td>\n",
       "      <td>0</td>\n",
       "      <td>2020-03-28 00:00:00</td>\n",
       "      <td>0</td>\n",
       "      <td>0</td>\n",
       "    </tr>\n",
       "  </tbody>\n",
       "</table>\n",
       "</div>"
      ],
      "text/plain": [
       "   State                 date  PUA IC         Reflect Date  PUA CC  PEUC CC\n",
       "0  State              Rptdate  PUA IC         Reflect Date  PUA CC  PEUC CC\n",
       "1     AL  2020-04-04 00:00:00       0  2020-03-28 00:00:00       0        0\n",
       "2     AK  2020-04-04 00:00:00       0  2020-03-28 00:00:00       0        0"
      ]
     },
     "execution_count": 9,
     "metadata": {},
     "output_type": "execute_result"
    }
   ],
   "source": [
    "data_dir = \"./data\"\n",
    "new_fpath = os.path.join(data_dir, new_fname)\n",
    "states_df = pd.read_csv(new_fpath)\n",
    "states_df = states_df[states_df['Rptdate'].notna()]\n",
    "states_df.rename(columns={\"Rptdate\":\"date\"}, inplace=True)\n",
    "states_df.head(3)"
   ]
  },
  {
   "cell_type": "code",
   "execution_count": 10,
   "metadata": {},
   "outputs": [
    {
     "name": "stdout",
     "output_type": "stream",
     "text": [
      "State           object\n",
      "date            object\n",
      "PUA IC          object\n",
      "Reflect Date    object\n",
      "PUA CC          object\n",
      "PEUC CC         object\n",
      "dtype: object\n",
      "found 0 non numeric rows\n",
      "['PUA IC', 'PUA CC', 'PEUC CC'] are object, should be numeric\n",
      "State            object\n",
      "date             object\n",
      "PUA IC          float64\n",
      "Reflect Date     object\n",
      "PUA CC          float64\n",
      "PEUC CC         float64\n",
      "dtype: object\n"
     ]
    }
   ],
   "source": [
    "print(states_df.dtypes)\n",
    "data_cols = [c for c in states_df.columns if re.search(\"CC|IC\", c)]\n",
    "\n",
    "ocols = []\n",
    "for col in data_cols:\n",
    "    if states_df[col].dtype == 'object':\n",
    "        ocols.append(col)\n",
    "if not ocols:\n",
    "    print(f\"all the data cols [{data_cols}] are numeric\")\n",
    "else:\n",
    "# get rid of non numeric rows\n",
    "    numeric_rows = states_df[data_cols].apply(lambda x: pd.Series(x).str.isnumeric(), axis=0).all(axis=1)\n",
    "    print(f\"found {0} non numeric rows\".format(states_df.shape[0]-numeric_rows))\n",
    "    states_df = states_df.loc[numeric_rows]\n",
    "    print(f\"{ocols} are object, should be numeric\")\n",
    "    for col in ocols: \n",
    "        states_df[col] = states_df[col].astype(float)\n",
    "print(states_df.dtypes)"
   ]
  },
  {
   "cell_type": "markdown",
   "metadata": {},
   "source": [
    "## Plot\n",
    "For now I'm not interested in the state breakdown so I'll aggregate to US level\n",
    "and also separte out Initial Claims, IC, from Continued Claims, CC.\n",
    "Partly because the CC values are about 10x the IC values so easier to see and check the IC data if plotted alone. \n",
    "Also because there is data on 2 different special programs for CC."
   ]
  },
  {
   "cell_type": "code",
   "execution_count": 11,
   "metadata": {},
   "outputs": [
    {
     "data": {
      "text/html": [
       "<div>\n",
       "<style scoped>\n",
       "    .dataframe tbody tr th:only-of-type {\n",
       "        vertical-align: middle;\n",
       "    }\n",
       "\n",
       "    .dataframe tbody tr th {\n",
       "        vertical-align: top;\n",
       "    }\n",
       "\n",
       "    .dataframe thead th {\n",
       "        text-align: right;\n",
       "    }\n",
       "</style>\n",
       "<table border=\"1\" class=\"dataframe\">\n",
       "  <thead>\n",
       "    <tr style=\"text-align: right;\">\n",
       "      <th></th>\n",
       "      <th>PUA IC</th>\n",
       "      <th>PUA CC</th>\n",
       "      <th>PEUC CC</th>\n",
       "    </tr>\n",
       "    <tr>\n",
       "      <th>date</th>\n",
       "      <th></th>\n",
       "      <th></th>\n",
       "      <th></th>\n",
       "    </tr>\n",
       "  </thead>\n",
       "  <tbody>\n",
       "    <tr>\n",
       "      <th>2020-04-04 00:00:00</th>\n",
       "      <td>31949.0</td>\n",
       "      <td>52494.0</td>\n",
       "      <td>0.0</td>\n",
       "    </tr>\n",
       "    <tr>\n",
       "      <th>2020-04-11 00:00:00</th>\n",
       "      <td>78726.0</td>\n",
       "      <td>69537.0</td>\n",
       "      <td>3802.0</td>\n",
       "    </tr>\n",
       "    <tr>\n",
       "      <th>2020-04-18 00:00:00</th>\n",
       "      <td>218399.0</td>\n",
       "      <td>216481.0</td>\n",
       "      <td>31426.0</td>\n",
       "    </tr>\n",
       "    <tr>\n",
       "      <th>2020-04-25 00:00:00</th>\n",
       "      <td>681487.0</td>\n",
       "      <td>1172238.0</td>\n",
       "      <td>63720.0</td>\n",
       "    </tr>\n",
       "    <tr>\n",
       "      <th>2020-05-02 00:00:00</th>\n",
       "      <td>1048982.0</td>\n",
       "      <td>3629986.0</td>\n",
       "      <td>91724.0</td>\n",
       "    </tr>\n",
       "  </tbody>\n",
       "</table>\n",
       "</div>"
      ],
      "text/plain": [
       "                        PUA IC     PUA CC  PEUC CC\n",
       "date                                              \n",
       "2020-04-04 00:00:00    31949.0    52494.0      0.0\n",
       "2020-04-11 00:00:00    78726.0    69537.0   3802.0\n",
       "2020-04-18 00:00:00   218399.0   216481.0  31426.0\n",
       "2020-04-25 00:00:00   681487.0  1172238.0  63720.0\n",
       "2020-05-02 00:00:00  1048982.0  3629986.0  91724.0"
      ]
     },
     "execution_count": 11,
     "metadata": {},
     "output_type": "execute_result"
    }
   ],
   "source": [
    "us_df = states_df.drop(labels=[\"State\"], axis=1).groupby(by='date')\n",
    "us_df = us_df.sum(min_count=1)\n",
    "us_df.head()\n",
    "#us_df.reset_index(inplace=True)"
   ]
  },
  {
   "cell_type": "code",
   "execution_count": 12,
   "metadata": {
    "ExecuteTime": {
     "end_time": "2020-10-30T01:00:05.909080Z",
     "start_time": "2020-10-30T01:00:05.888059Z"
    }
   },
   "outputs": [
    {
     "name": "stdout",
     "output_type": "stream",
     "text": [
      "                   date    PUA IC      PUA CC    PEUC CC\n",
      "28  2020-10-17 00:00:00  345440.0  10622725.0  3711089.0\n",
      "29  2020-10-24 00:00:00  359044.0   9332610.0  3983613.0\n",
      "30  2020-10-31 00:00:00  361959.0   9433127.0  4143389.0\n",
      "31  2020-11-07 00:00:00  296374.0   8681647.0  4376847.0\n",
      "32  2020-11-14 00:00:00  320237.0         NaN        NaN\n"
     ]
    }
   ],
   "source": [
    "us_df = states_df.drop(labels=[\"State\"], axis=1).groupby(by='date')\n",
    "us_df = us_df.sum(min_count=1)\n",
    "us_df.reset_index(inplace=True)\n",
    "print(us_df.tail())\n",
    "us_df.to_csv(os.path.join(\"./data\", \"us_pau_claims.csv\"), index=False)"
   ]
  },
  {
   "cell_type": "code",
   "execution_count": 13,
   "metadata": {
    "ExecuteTime": {
     "end_time": "2020-10-30T01:00:05.909080Z",
     "start_time": "2020-10-30T01:00:05.888059Z"
    }
   },
   "outputs": [],
   "source": [
    "ic_df = us_df[[\"date\",'PUA IC']]\n",
    "cc_df = us_df.drop('PUA IC', axis=1)\n",
    "cc_df['CC Tot'] = cc_df[[\"PUA CC\",\"PEUC CC\"]].sum(axis=1, skipna=False)\n",
    "cc_df.tail()\n",
    "dfs = {\"IC\":ic_df, \"CC\":cc_df}"
   ]
  },
  {
   "cell_type": "code",
   "execution_count": 14,
   "metadata": {},
   "outputs": [
    {
     "data": {
      "text/html": [
       "<div>\n",
       "<style scoped>\n",
       "    .dataframe tbody tr th:only-of-type {\n",
       "        vertical-align: middle;\n",
       "    }\n",
       "\n",
       "    .dataframe tbody tr th {\n",
       "        vertical-align: top;\n",
       "    }\n",
       "\n",
       "    .dataframe thead th {\n",
       "        text-align: right;\n",
       "    }\n",
       "</style>\n",
       "<table border=\"1\" class=\"dataframe\">\n",
       "  <thead>\n",
       "    <tr style=\"text-align: right;\">\n",
       "      <th></th>\n",
       "      <th>date</th>\n",
       "      <th>PUA IC</th>\n",
       "    </tr>\n",
       "  </thead>\n",
       "  <tbody>\n",
       "    <tr>\n",
       "      <th>0</th>\n",
       "      <td>2020-04-04 00:00:00</td>\n",
       "      <td>31949.0</td>\n",
       "    </tr>\n",
       "    <tr>\n",
       "      <th>1</th>\n",
       "      <td>2020-04-11 00:00:00</td>\n",
       "      <td>78726.0</td>\n",
       "    </tr>\n",
       "    <tr>\n",
       "      <th>2</th>\n",
       "      <td>2020-04-18 00:00:00</td>\n",
       "      <td>218399.0</td>\n",
       "    </tr>\n",
       "    <tr>\n",
       "      <th>3</th>\n",
       "      <td>2020-04-25 00:00:00</td>\n",
       "      <td>681487.0</td>\n",
       "    </tr>\n",
       "    <tr>\n",
       "      <th>4</th>\n",
       "      <td>2020-05-02 00:00:00</td>\n",
       "      <td>1048982.0</td>\n",
       "    </tr>\n",
       "  </tbody>\n",
       "</table>\n",
       "</div>"
      ],
      "text/plain": [
       "                  date     PUA IC\n",
       "0  2020-04-04 00:00:00    31949.0\n",
       "1  2020-04-11 00:00:00    78726.0\n",
       "2  2020-04-18 00:00:00   218399.0\n",
       "3  2020-04-25 00:00:00   681487.0\n",
       "4  2020-05-02 00:00:00  1048982.0"
      ]
     },
     "execution_count": 14,
     "metadata": {},
     "output_type": "execute_result"
    }
   ],
   "source": [
    "dfs[\"IC\"].head()"
   ]
  },
  {
   "cell_type": "code",
   "execution_count": 15,
   "metadata": {
    "ExecuteTime": {
     "end_time": "2020-10-30T01:00:06.644903Z",
     "start_time": "2020-10-30T01:00:05.914060Z"
    }
   },
   "outputs": [
    {
     "name": "stdout",
     "output_type": "stream",
     "text": [
      "Plotting IC\n",
      "Plotting CC\n"
     ]
    },
    {
     "data": {
      "image/png": "[encoded data removed]",
      "text/plain": [
       "<Figure size 864x432 with 2 Axes>"
      ]
     },
     "metadata": {
      "needs_background": "light"
     },
     "output_type": "display_data"
    }
   ],
   "source": [
    "figwd = 12\n",
    "fight= 6\n",
    "fig, axs = plt.subplots(nrows=2, ncols=1, figsize=[figwd, fight], sharex=True)\n",
    "for i, key in enumerate(dfs.keys()):\n",
    "    print(f\"Plotting {key}\")\n",
    "    ax = axs[i]\n",
    "    dfs[key].plot(ax=ax, x=\"date\",  kind='line', linestyle='-', marker='o', lw=1, title=key,\n",
    "               mec='red', mfc='black', ms=0.75, legend=True, label=None, grid=True)"
   ]
  },
  {
   "cell_type": "markdown",
   "metadata": {},
   "source": [
    "The *regular* IC values have been about 750K so this new program is about half that.\n",
    "The *regular* CC values have been about 7.5 million so this new data is about the same.\n",
    "Later I might combine the regular and special data, but for now it's enough just to have the special data."
   ]
  },
  {
   "cell_type": "code",
   "execution_count": null,
   "metadata": {},
   "outputs": [],
   "source": []
  }
 ],
 "metadata": {
  "kernelspec": {
   "display_name": "jobs",
   "language": "python",
   "name": "jobs"
  },
  "language_info": {
   "codemirror_mode": {
    "name": "ipython",
    "version": 3
   },
   "file_extension": ".py",
   "mimetype": "text/x-python",
   "name": "python",
   "nbconvert_exporter": "python",
   "pygments_lexer": "ipython3",
   "version": "3.8.5"
  }
 },
 "nbformat": 4,
 "nbformat_minor": 4
}
