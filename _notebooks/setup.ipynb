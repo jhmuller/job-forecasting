{
 "cells": [
  {
   "cell_type": "markdown",
   "metadata": {},
   "source": [
    "# Recreating my environment"
   ]
  },
  {
   "cell_type": "code",
   "execution_count": null,
   "metadata": {},
   "outputs": [],
   "source": [
    "import os\n",
    "import sys\n",
    "import inspect\n",
    "import pandas as pt"
   ]
  },
  {
   "cell_type": "markdown",
   "metadata": {},
   "source": [
    "##  numpy issue\n",
    "version 1.19.4 seems to create problems\n",
    "uninstall 1.19.4 and install version 1.19.3\n"
   ]
  },
  {
   "cell_type": "markdown",
   "metadata": {},
   "source": [
    "## zmq issue\n",
    "fatal error C1083: Cannot open include file: 'zmq.h': No such file or directory\n",
    "\n",
    "uninstall and reinstall pyzmq\n",
    "> pip uninstall pyzmq\n",
    "> pip install pyzmq"
   ]
  },
  {
   "cell_type": "markdown",
   "metadata": {},
   "source": [
    "## ssl issue\n",
    "If pip complains about ssl, eg.   \n",
    "WARNING: pip is configured with locations that require TLS/SSL, however the ssl module in Python is not available.\n",
    "    \n",
    "following [this](https://github.com/conda/conda/issues/8273)\n",
    "\n",
    "Copy the following files \n",
    "* libcrypto-1_1-x64.dll\n",
    "* libcrypto-1_1-x64.pdb\n",
    "* libssl-1_1-x64.dll\n",
    "* libssl-1_1-x64.pdb\n",
    "\n",
    "From : C:\\Users\\MyUser\\Miniconda3\\Library\\bin   \n",
    "To: C:\\Users\\MyUser\\Miniconda3\\DLLs\n",
    " \n"
   ]
  },
  {
   "cell_type": "markdown",
   "metadata": {},
   "source": [
    "> conda create -n jobs python=3.8\n",
    "\n",
    "pip install ipykernel\n",
    "\n",
    "> python -m ipykernel install --user --name=jobs\n",
    "\n",
    "> pip install pandas pytrends "
   ]
  },
  {
   "cell_type": "code",
   "execution_count": null,
   "metadata": {
    "scrolled": true
   },
   "outputs": [],
   "source": [
    "# Check if pytrends is installed\n",
    "# if not run \n",
    "# !pip install pytrends\n",
    "mods = !pip freeze\n",
    "ptmods = [m for m in mods if m.startswith('pytrends')]\n",
    "if ptmods :\n",
    "    pt = ptmods[0]\n",
    "    ptname, ptversion = pt.split(\"==\")\n",
    "    print(ptname)\n",
    "else:\n",
    "    print(\"no pytrends\")"
   ]
  },
  {
   "cell_type": "code",
   "execution_count": null,
   "metadata": {},
   "outputs": [],
   "source": [
    "os.environ[\"CONDA_DEFAULT_ENV\"]"
   ]
  },
  {
   "cell_type": "code",
   "execution_count": null,
   "metadata": {
    "scrolled": true
   },
   "outputs": [],
   "source": [
    "stmt = f\"import {ptname}\"\n",
    "print(stmt)\n",
    "exec(stmt, globals(), locals())"
   ]
  },
  {
   "cell_type": "code",
   "execution_count": null,
   "metadata": {},
   "outputs": [],
   "source": [
    "import os\n",
    "import pandas as pd\n",
    "import pytz\n",
    "import pytrends\n",
    "mpath = pytrends.__file__\n",
    "mpath = pd.__file__\n",
    "site_packages_path = os.path.split(os.path.split(mpath)[0])[0]\n",
    "print(site_packages_path)\n",
    "sps = os.listdir(site_packages_path)\n",
    "#sps"
   ]
  },
  {
   "cell_type": "code",
   "execution_count": null,
   "metadata": {},
   "outputs": [],
   "source": [
    "[k for k in os.environ.keys() if k.startswith(\"COND\")]"
   ]
  },
  {
   "cell_type": "code",
   "execution_count": null,
   "metadata": {},
   "outputs": [],
   "source": []
  }
 ],
 "metadata": {
  "kernelspec": {
   "display_name": "payems",
   "language": "python",
   "name": "payems"
  },
  "language_info": {
   "codemirror_mode": {
    "name": "ipython",
    "version": 3
   },
   "file_extension": ".py",
   "mimetype": "text/x-python",
   "name": "python",
   "nbconvert_exporter": "python",
   "pygments_lexer": "ipython3",
   "version": "3.9.2"
  }
 },
 "nbformat": 4,
 "nbformat_minor": 4
}


