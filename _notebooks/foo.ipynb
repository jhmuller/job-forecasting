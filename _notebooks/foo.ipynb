{
 "cells": [
  {
   "cell_type": "markdown",
   "metadata": {},
   "source": [
    "   # Sandbox: Ignore this\n",
    "   This notebook contains little experiments on doing things with python, jupyter, ipython et cetera\n",
    "   It's not a central part of the project.\n",
    "    \n",
    "   Mostly ad hoc code snippets.  And not documented well"
   ]
  },
  {
   "cell_type": "code",
   "execution_count": 7,
   "metadata": {
    "ExecuteTime": {
     "end_time": "2020-11-24T06:51:17.881958Z",
     "start_time": "2020-11-24T06:51:16.914536Z"
    }
   },
   "outputs": [
    {
     "name": "stdout",
     "output_type": "stream",
     "text": [
      "sys.version_info(major=3, minor=8, micro=5, releaselevel='final', serial=0)\n"
     ]
    }
   ],
   "source": [
    "import os\n",
    "import sys\n",
    "import time\n",
    "import datetime\n",
    "import touch\n",
    "import inspect\n",
    "import datetime\n",
    "# don't really need these below, just for testing\n",
    "import numpy\n",
    "from PIL import Image \n",
    "import plotnine as pn\n",
    "import pandas as pd\n",
    "print(sys.version_info)"
   ]
  },
  {
   "cell_type": "code",
   "execution_count": 3,
   "metadata": {},
   "outputs": [
    {
     "name": "stdout",
     "output_type": "stream",
     "text": [
      "version 3.8.5 of Python\n",
      "No __version__ for touch as touch\n",
      "version numpy of numpy as 1.19.3 \n",
      "version Image of Image as 8.0.1 \n",
      "version pn of plotnine as 0.7.1 \n",
      "version pd of pandas as 1.1.3 \n"
     ]
    }
   ],
   "source": [
    "mlist = list(filter(lambda x: inspect.ismodule(x[1]), locals().items()))\n",
    "vi = sys.version_info\n",
    "print(\"version {0}.{1}.{2} of Python\".format(vi.major, vi.minor, vi.micro))\n",
    "for name, mod in mlist:\n",
    "    mname = name\n",
    "    if name.startswith(\"__\"):\n",
    "        continue\n",
    "    if hasattr(mod, \"__version__\"):\n",
    "        mname = name\n",
    "        if hasattr(mod, \"__path__\"):\n",
    "            mname = os.path.split(mod.__path__[0])[1]\n",
    "        print(\"version {1} of {0} as {2} \".format(mname, name, mod.__version__))\n",
    "    elif hasattr(mod, \"__file__\") and \"site-packages\" in mod.__file__:\n",
    "        print(\"No __version__ for {0} as {1}\".format(mname, name))\n",
    "del mod\n",
    "del name"
   ]
  },
  {
   "cell_type": "code",
   "execution_count": 4,
   "metadata": {
    "ExecuteTime": {
     "end_time": "2020-11-24T06:51:18.014601Z",
     "start_time": "2020-11-24T06:51:17.881958Z"
    }
   },
   "outputs": [],
   "source": [
    "# snippet to see the source code for a fuction\n",
    "import inspect\n",
    "import nbformat\n",
    "fname = \"nbformat.convert\"\n",
    "lines = inspect.getsource(eval(fname))\n",
    "#print(lines)"
   ]
  },
  {
   "cell_type": "code",
   "execution_count": 5,
   "metadata": {
    "ExecuteTime": {
     "end_time": "2020-11-24T06:51:41.721852Z",
     "start_time": "2020-11-24T06:51:41.685659Z"
    }
   },
   "outputs": [
    {
     "name": "stdout",
     "output_type": "stream",
     "text": [
      "['combining_claims.ipynb', 'DataSources.ipynb', 'fastpages-howto.ipynb', 'fred.ipynb', 'google.ipynb', 'Intro_Overview.ipynb', 'setup.ipynb', 'Setup_old.ipynb', 'umich_cs.ipynb', 'weekly_claims.ipynb']\n",
      "['Intro_Overview.ipynb', 'DataSources.ipynb', 'fred.ipynb', 'weekly_claims.ipynb', 'umich_cs.ipynb', 'google.ipynb', 'combining_claims.ipynb', 'Setup_old.ipynb', 'setup.ipynb', 'fastpages-howto.ipynb']\n"
     ]
    }
   ],
   "source": [
    "# to get the names of notebook files in a directory\n",
    "def get_project_notebooks():\n",
    "    from nbformat import read, NO_CONVERT\n",
    "    import os\n",
    "    import datetime\n",
    "    proj_nbs = []\n",
    "    nb_fnames = [f for f in os.listdir() if f.endswith(\".ipynb\")]\n",
    "    for fn in nb_fnames:\n",
    "        with open(fn) as fp:\n",
    "            notebook = read(fp, as_version=NO_CONVERT)\n",
    "        cells = notebook['cells']\n",
    "        if not cells:\n",
    "            continue\n",
    "        src =cells[0][\"source\"]\n",
    "        if not src:\n",
    "            continue\n",
    "        lines = src.split(\"\\n\")\n",
    "        if lines[0].startswith(\"# \"):\n",
    "            proj_nbs.append(fn)\n",
    "    return(proj_nbs)\n",
    "\n",
    "\n",
    "# print the source code for a cell\n",
    "def print_source(cell):\n",
    "    print(\"type cell= {0}\".format(type(cell)))\n",
    "    src = cell[\"source\"]\n",
    "    lines = src.split(\"\\n\")\n",
    "    print(\"{0} lines\".format(len(lines)))\n",
    "    for i,line in enumerate(lines):\n",
    "        print(\"({0}){1}\".format(i, line))\n",
    "\n",
    "# run notebook code\n",
    "def run_nb_code(nbfile):\n",
    "    from nbformat import read, NO_CONVERT\n",
    "    import os\n",
    "    import datetime\n",
    "    res = \"Start time: \" + str(datetime.datetime.now())\n",
    "    with open(nbfile) as fp:\n",
    "        notebook = read(fp, NO_CONVERT)\n",
    "    cells = notebook['cells']\n",
    "    code_cells = [c for c in cells if c['cell_type'] == 'code']\n",
    "    for i, cell in enumerate(code_cells):\n",
    "        src = cell['source']\n",
    "        #print(\"{0}<{1}>\".format(li, line))                \n",
    "        try:\n",
    "            exec(src, globals(), locals())\n",
    "        except Exception as e:\n",
    "            print(\"Error on cell {0}\\n\".format(i))\n",
    "            print(src)\n",
    "            print_source(cell)\n",
    "            exc_type, exc_obj, exc_tb = sys.exc_info()\n",
    "            import traceback\n",
    "            traceback.print_tb(exc_tb)\n",
    "            fname = os.path.split(exc_tb.tb_frame.f_code.co_filename)[1]\n",
    "            print(exc_type, fname, exc_tb.tb_lineno)\n",
    "            return((exc_type, exc_obj, exc_tb, fname))\n",
    "    res += \"end: \" + str(datetime.datetime.now())\n",
    "    return res\n",
    "# run notebook code\n",
    "def get_first_cell_line(nbfile):\n",
    "    from nbformat import read, NO_CONVERT\n",
    "    import os\n",
    "    import datetime\n",
    "    res = \"Start time: \" + str(datetime.datetime.now())\n",
    "    with open(nbfile) as fp:\n",
    "        notebook = read(fp, NO_CONVERT)\n",
    "    cells = notebook['cells']\n",
    "    if not cells:\n",
    "        return \"\"\n",
    "    lines = cells[0][\"source\"].split(\"\\n\")\n",
    "    if not lines:\n",
    "        return \"\"\n",
    "    return lines[0]\n",
    "def ordered_notebooks():\n",
    "    nbs = get_project_notebooks()\n",
    "    nbord = [None]*len(nbs)\n",
    "    end_index = len(nbs)-1\n",
    "    for nb in nbs:\n",
    "        line0 = get_first_cell_line(nb)\n",
    "        parts = line0.split(' ')\n",
    "\n",
    "        index = -1\n",
    "        if len(parts) >= 3 and parts[0]=='#' and parts[1]=='Part':\n",
    "            try:\n",
    "                index = int(parts[2]) - 1\n",
    "            except Exception as e:\n",
    "                pass\n",
    "        if  index == -1:\n",
    "            index = end_index\n",
    "            end_index -= 1\n",
    "        nbord[index] = nb\n",
    "    return (nbord)\n",
    "print(get_project_notebooks())\n",
    "print(ordered_notebooks())"
   ]
  },
  {
   "cell_type": "code",
   "execution_count": 3,
   "metadata": {},
   "outputs": [],
   "source": [
    "class redirect_output(object):\n",
    "    \"\"\"context manager for reditrecting stdout/err to files\"\"\"\n",
    "    def __init__(self, stdout='', stderr=''):\n",
    "        self.stdout = stdout\n",
    "        self.stderr = stderr\n",
    "\n",
    "    def __enter__(self):\n",
    "        self.sys_stdout = sys.stdout\n",
    "        self.sys_stderr = sys.stderr\n",
    "\n",
    "        if self.stdout:\n",
    "            sys.stdout = open(self.stdout, 'w')\n",
    "        if self.stderr:\n",
    "            if self.stderr == self.stdout:\n",
    "                sys.stderr = sys.stdout\n",
    "            else:\n",
    "                sys.stderr = open(self.stderr, 'w')\n",
    "\n",
    "    def __exit__(self, exc_type, exc_value, traceback):\n",
    "        sys.stdout = self.sys_stdout\n",
    "        sys.stderr = self.sys_stderr"
   ]
  },
  {
   "cell_type": "code",
   "execution_count": 27,
   "metadata": {
    "ExecuteTime": {
     "end_time": "2020-11-24T06:53:14.755733Z",
     "start_time": "2020-11-24T06:51:58.710791Z"
    }
   },
   "outputs": [
    {
     "name": "stdout",
     "output_type": "stream",
     "text": [
      "['Intro_Overview.ipynb', 'DataSources.ipynb', 'fred.ipynb', 'weekly_claims.ipynb', 'umich_cs.ipynb', 'google.ipynb', 'combining_claims.ipynb', 'Setup_old.ipynb', 'setup.ipynb', 'fastpages-howto.ipynb']\n",
      "\n",
      "Runnning Intro_Overview.ipynb\n",
      "\n",
      "Runnning DataSources.ipynb\n",
      "\n",
      "Runnning fred.ipynb\n"
     ]
    }
   ],
   "source": [
    "from IPython.utils.capture import CapturedIO\n",
    "from IPython.utils.capture import capture_output\n",
    "nbs = ordered_notebooks()\n",
    "print(nbs)\n",
    "ofname = 'foo_out.txt'\n",
    "with open(ofname, mode='w') as fp:\n",
    "    fp.write(\"Datetime= {0}\".format(str(datetime.datetime.now())))\n",
    "outstr = \"\"\n",
    "x = None\n",
    "for nb in nbs:\n",
    "    print(\"\\nRunnning {0}\".format(nb))\n",
    "    with capture_output() as co:\n",
    "        %run  $nb\n",
    "        ofname = os.path.splitext(nb)[0] + \".out\"\n",
    "        if nb == 'fred.ipynb':\n",
    "            x = co\n",
    "            break\n",
    "        with open(ofname, mode=\"w\") as fp:\n",
    "            fp.write(str(datetime.datetime.now()))\n",
    "            fp.write(\" stdout\\n{0}\\ns stderr{1}\".format(co.stdout, co.stderr))\n",
    "            for o in co.outputs:\n",
    "                fp.write(str(o))"
   ]
  },
  {
   "cell_type": "code",
   "execution_count": 36,
   "metadata": {},
   "outputs": [
    {
     "data": {
      "text/plain": [
       "\"'version 3.8.5 of Python\\\\nversion 2.2.1 of re\\\\nversion 1.19.3 of numpy\\\\nversion 8.0.1 of Image\\\\nversion 0.7.1 of pn\\\\nversion 1.1.3 of pd\\\\nversion 1.19.3 of np\\\\nversion 3.3.3 of mpl\\\\nversion 0.4.2 of fredapi\\\\nversion 1.2.0 of xlrd\\\\nversion 3.141.0 of selenium\\\\nversion 3.14.1 of webdriver\\\\nversion 2020.1 of pytz\\\\n0.4.2\\\\nUSPRIV, rows= 166\\\\nNPPTTL, rows= 166\\\\nICSA, rows= 725\\\\nCCSA, rows= 724\\\\nJTS1000JOL, rows= 165\\\\nJTS1000HIL, rows= 165\\\\nJTS1000TSL, rows= 165\\\\nCSCICP03USM665S, rows= 166\\\\nBSCICP03USM665S, rows= 166\\\\nUNRATE, rows= 166\\\\nUNEMPLOY, rows= 166\\\\nCLF16OV, rows= 166\\\\nUEMP27OV, rows= 166\\\\nU6Rate, rows= 166\\\\nCIVPART, rows= 166\\\\nLNS12032194, rows= 166\\\\n     realtime_start        date      value series_id         description  \\\\\\\\\\\\n1779     2020-11-19  2020-11-07  6.372e+06      CCSA   Continued Claims    \\\\n1780     2020-11-25  2020-11-14  6.071e+06      CCSA   Continued Claims    \\\\n1055     2020-11-19  2020-11-14     742000      ICSA      Initial Claims   \\\\n1056     2020-11-25  2020-11-21     778000      ICSA      Initial Claims   \\\\n\\\\n          dtime  \\\\n1779 2020-11-07  \\\\n1780 2020-11-14  \\\\n1055 2020-11-14  \\\\n1056 2020-11-21  \\\\n           date  USPRIV    ICSA JTS1000JOL\\\\n0    2007-01-01  115137     NaN       4102\\\\n166  2007-01-06     NaN  322000        NaN\\\\n167  2007-01-13     NaN  295000        NaN\\\\n168  2007-01-20     NaN  337000        NaN\\\\n169  2007-01-27     NaN  309000        NaN\\\\n1    2007-02-01  115242     NaN       4069\\\\n170  2007-02-03     NaN  307000        NaN\\\\n171  2007-02-10     NaN  332000        NaN\\\\n172  2007-02-17     NaN  323000        NaN\\\\n173  2007-02-24     NaN  319000        NaN\\\\n           date  USPRIV    ICSA JTS1000JOL\\\\n859  2020-09-26     NaN  837000        NaN\\\\n165  2020-10-01  120844     NaN        NaN\\\\n860  2020-10-03     NaN  840000        NaN\\\\n861  2020-10-10     NaN  898000        NaN\\\\n862  2020-10-17     NaN  787000        NaN\\\\n863  2020-10-24     NaN  751000        NaN\\\\n864  2020-10-31     NaN  751000        NaN\\\\n865  2020-11-07     NaN  709000        NaN\\\\n866  2020-11-14     NaN  742000        NaN\\\\n867  2020-11-21     NaN  778000        NaN\\\\n2020-11-30 23:36:36.705508\\\\n'\""
      ]
     },
     "execution_count": 36,
     "metadata": {},
     "output_type": "execute_result"
    }
   ],
   "source": [
    "x.outputs\n",
    "repr(x.stdout)"
   ]
  },
  {
   "cell_type": "code",
   "execution_count": null,
   "metadata": {
    "ExecuteTime": {
     "end_time": "2020-11-23T12:23:14.760008Z",
     "start_time": "2020-11-23T12:23:14.755009Z"
    }
   },
   "outputs": [],
   "source": [
    "all_nb_filenames = [f for f in os.listdir() if f.endswith(\".ipynb\")]\n",
    "print(all_nb_filenames)\n",
    "proj_nb_filenames = ['fred.ipynb', 'combiningData.ipynb', 'DataSources.ipynb', 'fastpages-howto.ipynb', \n",
    "                     'foo.ipynb', 'fred.ipynb', 'google.ipynb', 'Intro_Overview.ipynb', 'umich_cs.ipynb', 'weekly_claims.ipynb']"
   ]
  },
  {
   "cell_type": "code",
   "execution_count": 8,
   "metadata": {},
   "outputs": [
    {
     "name": "stdout",
     "output_type": "stream",
     "text": [
      "['Intro_Overview.ipynb', 'DataSources.ipynb', 'fred.ipynb', 'weekly_claims.ipynb', 'umich_cs.ipynb', 'google.ipynb', 'combining_claims.ipynb', 'Setup_old.ipynb', 'setup.ipynb', 'fastpages-howto.ipynb']\n"
     ]
    }
   ],
   "source": [
    "# Touch them in order\n",
    "import time\n",
    "nbs = get_project_notebooks()\n",
    "last  = len(nbs) - 1\n",
    "nblist = [\"\"]*len(nbs)\n",
    "for nb in nbs:\n",
    "    line = get_first_cell_line(nb)\n",
    "    line_parts = line.split(\" \")\n",
    "    if len(line_parts) > 3 and line_parts[1] == \"Part\":\n",
    "        try:\n",
    "            index = int(line_parts[2]) - 1\n",
    "        except:\n",
    "            index = last\n",
    "            last -= 1\n",
    "    else:\n",
    "        index = last\n",
    "        last -= 1\n",
    "    nblist[index] = nb\n",
    "    #print(f\"{nb}, index={index}, {line}\")\n",
    "print(nblist)\n",
    "def add_str_to_file(fname, str=\"\\n\"):\n",
    "    with open(fname, mode='a') as fp:\n",
    "        fp.write(str)\n",
    "    return\n",
    "if False:\n",
    "    for nb in nblist:\n",
    "        try:\n",
    "            print(\"{0} {1}\".format(nb, datetime.datetime.now()))\n",
    "            touch.touch(nb)\n",
    "            add_str_to_file(nb, str=\"\\n\")\n",
    "            time.sleep(61)\n",
    "        except Exception as e:\n",
    "            print(e)"
   ]
  },
  {
   "cell_type": "code",
   "execution_count": 9,
   "metadata": {
    "ExecuteTime": {
     "end_time": "2020-11-23T10:32:42.781278Z",
     "start_time": "2020-11-23T10:32:42.773249Z"
    }
   },
   "outputs": [
    {
     "name": "stdout",
     "output_type": "stream",
     "text": [
      "2020-11-30 21:13:07.587282\n"
     ]
    }
   ],
   "source": [
    "import IPython\n",
    "app = IPython.Application.instance()\n",
    "dir(app.kernel)\n",
    "app.kernel.do_shutdown(restart=True)\n",
    "#app.kernel.do_shutdown(True) \n",
    "print(datetime.datetime.now())"
   ]
  },
  {
   "cell_type": "code",
   "execution_count": 1,
   "metadata": {},
   "outputs": [
    {
     "ename": "NameError",
     "evalue": "name 'os' is not defined",
     "output_type": "error",
     "traceback": [
      "\u001b[1;31m---------------------------------------------------------------------------\u001b[0m",
      "\u001b[1;31mNameError\u001b[0m                                 Traceback (most recent call last)",
      "\u001b[1;32m<ipython-input-1-4a7a5f7a0362>\u001b[0m in \u001b[0;36m<module>\u001b[1;34m\u001b[0m\n\u001b[0;32m      1\u001b[0m \u001b[1;32mimport\u001b[0m \u001b[0mre\u001b[0m\u001b[1;33m\u001b[0m\u001b[1;33m\u001b[0m\u001b[0m\n\u001b[1;32m----> 2\u001b[1;33m \u001b[0mhead\u001b[0m\u001b[1;33m,\u001b[0m \u001b[0mtail\u001b[0m \u001b[1;33m=\u001b[0m \u001b[0mos\u001b[0m\u001b[1;33m.\u001b[0m\u001b[0mpath\u001b[0m\u001b[1;33m.\u001b[0m\u001b[0msplit\u001b[0m\u001b[1;33m(\u001b[0m\u001b[0mdownloaded_fpath\u001b[0m\u001b[1;33m)\u001b[0m\u001b[1;33m\u001b[0m\u001b[1;33m\u001b[0m\u001b[0m\n\u001b[0m\u001b[0;32m      3\u001b[0m \u001b[0mbase\u001b[0m\u001b[1;33m,\u001b[0m \u001b[0mext\u001b[0m \u001b[1;33m=\u001b[0m \u001b[0mos\u001b[0m\u001b[1;33m.\u001b[0m\u001b[0mpath\u001b[0m\u001b[1;33m.\u001b[0m\u001b[0msplitext\u001b[0m\u001b[1;33m(\u001b[0m\u001b[0mtail\u001b[0m\u001b[1;33m)\u001b[0m\u001b[1;33m\u001b[0m\u001b[1;33m\u001b[0m\u001b[0m\n\u001b[0;32m      4\u001b[0m \u001b[0mpattern\u001b[0m \u001b[1;33m=\u001b[0m \u001b[1;34m\"(.*)(\\(.*\\))\"\u001b[0m\u001b[1;33m\u001b[0m\u001b[1;33m\u001b[0m\u001b[0m\n\u001b[0;32m      5\u001b[0m \u001b[0mmatch\u001b[0m \u001b[1;33m=\u001b[0m \u001b[0mre\u001b[0m\u001b[1;33m.\u001b[0m\u001b[0mmatch\u001b[0m\u001b[1;33m(\u001b[0m\u001b[0mpattern\u001b[0m\u001b[1;33m,\u001b[0m \u001b[0mbase\u001b[0m\u001b[1;33m)\u001b[0m\u001b[1;33m\u001b[0m\u001b[1;33m\u001b[0m\u001b[0m\n",
      "\u001b[1;31mNameError\u001b[0m: name 'os' is not defined"
     ]
    }
   ],
   "source": [
    "import re\n",
    "head, tail = os.path.split(downloaded_fpath)\n",
    "base, ext = os.path.splitext(tail)\n",
    "pattern = \"(.*)(\\(.*\\))\"\n",
    "match = re.match(pattern, base)\n",
    "if not match:\n",
    "    msg = \"Error cleaning {0}\\nNo match for pattern: <{1}>\".format(fpath, pattern)\n",
    "    raise Exception(msg)\n",
    "new_base = match.group(1).strip()\n",
    "new_fname = new_base + ext\n",
    "return new_fname"
   ]
  },
  {
   "cell_type": "code",
   "execution_count": null,
   "metadata": {
    "ExecuteTime": {
     "end_time": "2020-11-23T10:48:28.904029Z",
     "start_time": "2020-11-23T10:48:28.893029Z"
    }
   },
   "outputs": [],
   "source": [
    "def print_vars(globs=True, locs=True, \n",
    "               filters={\"exclude\":(\"^_\",)}):\n",
    "    import re\n",
    "    dicts = {\"globs\":globals().keys(),\n",
    "            \"locs\":locals().keys()}\n",
    "    for k,v in dicts.items():\n",
    "        print(\"k={0}, eval(k)= {1}\".format(k, eval(k)))\n",
    "        if eval(k):\n",
    "            y = [x for x in dicts[k]]\n",
    "            if filters:\n",
    "                if filters[\"exclude\"]:\n",
    "                    for filt in filters[\"exclude\"]:\n",
    "                        print(\"excluding: {0}\".format(filt))\n",
    "                        y = [x for x in y if not re.search(filt, x)]\n",
    "            print(\"{0}= {1}\".format(k,y))\n",
    "        del y\n",
    "print_vars()"
   ]
  },
  {
   "cell_type": "code",
   "execution_count": null,
   "metadata": {},
   "outputs": [],
   "source": []
  },
  {
   "cell_type": "code",
   "execution_count": null,
   "metadata": {
    "ExecuteTime": {
     "end_time": "2020-11-23T10:33:00.154004Z",
     "start_time": "2020-11-23T10:33:00.101132Z"
    }
   },
   "outputs": [],
   "source": [
    "z"
   ]
  },
  {
   "cell_type": "code",
   "execution_count": null,
   "metadata": {},
   "outputs": [],
   "source": []
  }
 ],
 "metadata": {
  "kernelspec": {
   "display_name": "jobs",
   "language": "python",
   "name": "jobs"
  },
  "language_info": {
   "codemirror_mode": {
    "name": "ipython",
    "version": 3
   },
   "file_extension": ".py",
   "mimetype": "text/x-python",
   "name": "python",
   "nbconvert_exporter": "python",
   "pygments_lexer": "ipython3",
   "version": "3.8.5"
  }
 },
 "nbformat": 4,
 "nbformat_minor": 4
}
