{
 "cells": [
  {
   "cell_type": "markdown",
   "metadata": {},
   "source": [
    "   # Sandbox: Ignore this\n",
    "   This notebook contains little experiments on doing things with python, jupyter, ipython et cetera\n",
    "   It's not a central part of the project.\n",
    "    \n",
    "   Mostly ad hoc code snippets.  And not documented well"
   ]
  },
  {
   "cell_type": "code",
   "execution_count": 1,
   "metadata": {
    "ExecuteTime": {
     "end_time": "2020-11-24T06:51:17.881958Z",
     "start_time": "2020-11-24T06:51:16.914536Z"
    }
   },
   "outputs": [],
   "source": [
    "import os\n",
    "import sys\n",
    "import IPython\n",
    "import pandas as pd"
   ]
  },
  {
   "cell_type": "code",
   "execution_count": 2,
   "metadata": {
    "ExecuteTime": {
     "end_time": "2020-11-24T06:51:18.014601Z",
     "start_time": "2020-11-24T06:51:17.881958Z"
    }
   },
   "outputs": [
    {
     "name": "stdout",
     "output_type": "stream",
     "text": [
      "def convert(nb, to_version):\n",
      "    \"\"\"Convert a notebook node object to a specific version.  Assumes that\n",
      "    all the versions starting from 1 to the latest major X are implemented.\n",
      "    In other words, there should never be a case where v1 v2 v3 v5 exist without\n",
      "    a v4.  Also assumes that all conversions can be made in one step increments\n",
      "    between major versions and ignores minor revisions.\n",
      "\n",
      "    Parameters\n",
      "    ----------\n",
      "    nb : NotebookNode\n",
      "    to_version : int\n",
      "        Major revision to convert the notebook to.  Can either be an upgrade or\n",
      "        a downgrade.\n",
      "    \"\"\"\n",
      "\n",
      "    # Get input notebook version.\n",
      "    (version, version_minor) = get_version(nb)\n",
      "\n",
      "    # Check if destination is target version, if so return contents\n",
      "    if version == to_version:\n",
      "        return nb\n",
      "\n",
      "    # If the version exist, try to convert to it one step at a time.\n",
      "    elif to_version in versions:\n",
      "\n",
      "        # Get the the version that this recursion will convert to as a step \n",
      "        # closer to the final revision.  Make sure the newer of the conversion\n",
      "        # functions is used to perform the conversion.\n",
      "        if to_version > version:\n",
      "            step_version = version + 1\n",
      "            convert_function = versions[step_version].upgrade\n",
      "        else:\n",
      "            step_version = version - 1\n",
      "            convert_function = versions[version].downgrade\n",
      "\n",
      "        # Convert and make sure version changed during conversion.\n",
      "        converted = convert_function(nb)\n",
      "        if converted.get('nbformat', 1) == version:\n",
      "            raise ValueError(\"Failed to convert notebook from v%d to v%d.\" % (version, step_version))\n",
      "\n",
      "        # Recursively convert until target version is reached.\n",
      "        return convert(converted, to_version)\n",
      "    else:\n",
      "        raise ValueError(\"Cannot convert notebook to v%d because that \" \\\n",
      "                        \"version doesn't exist\" % (to_version))\n",
      "\n"
     ]
    }
   ],
   "source": [
    "# snippet to see the source code for a fuction\n",
    "import inspect\n",
    "import nbformat\n",
    "fname = \"nbformat.convert\"\n",
    "lines = inspect.getsource(eval(fname))\n",
    "print(lines)"
   ]
  },
  {
   "cell_type": "code",
   "execution_count": 4,
   "metadata": {
    "ExecuteTime": {
     "end_time": "2020-11-24T06:51:39.513160Z",
     "start_time": "2020-11-24T06:51:39.333165Z"
    }
   },
   "outputs": [
    {
     "data": {
      "text/plain": [
       "['combiningData.ipynb',\n",
       " 'DataSources.ipynb',\n",
       " 'fastpages-howto.ipynb',\n",
       " 'fred.ipynb',\n",
       " 'google.ipynb',\n",
       " 'Intro_Overview.ipynb',\n",
       " 'umich_cs.ipynb',\n",
       " 'weekly_claims.ipynb']"
      ]
     },
     "execution_count": 4,
     "metadata": {},
     "output_type": "execute_result"
    }
   ],
   "source": [
    "# to get the names of notebook files in a directory\n",
    "def get_project_notebooks():\n",
    "    from nbformat import read, NO_CONVERT\n",
    "    import os\n",
    "    import datetime\n",
    "    proj_nbs = []\n",
    "    nb_fnames = [f for f in os.listdir() if f.endswith(\".ipynb\")]\n",
    "    for fn in nb_fnames:\n",
    "        with open(fn) as fp:\n",
    "            notebook = read(fp, as_version=NO_CONVERT)\n",
    "        cells = notebook['cells']\n",
    "        if not cells:\n",
    "            continue\n",
    "        src =cells[0][\"source\"]\n",
    "        if not src:\n",
    "            continue\n",
    "        lines = src.split(\"\\n\")\n",
    "        if lines[0].startswith(\"# \"):\n",
    "            proj_nbs.append(fn)\n",
    "    return(proj_nbs)\n",
    "get_project_notebooks()"
   ]
  },
  {
   "cell_type": "code",
   "execution_count": 5,
   "metadata": {
    "ExecuteTime": {
     "end_time": "2020-11-24T06:51:41.721852Z",
     "start_time": "2020-11-24T06:51:41.685659Z"
    }
   },
   "outputs": [],
   "source": [
    "# print the source code for a cell\n",
    "def print_source(cell):\n",
    "    print(\"type cell= {0}\".format(type(cell)))\n",
    "    src = cell[\"source\"]\n",
    "    lines = src.split(\"\\n\")\n",
    "    print(\"{0} lines\".format(len(lines)))\n",
    "    for i,line in enumerate(lines):\n",
    "        print(\"({0}){1}\".format(i, line))\n",
    "\n",
    "# run notebook code\n",
    "def run_nb_code(nbfile):\n",
    "    from nbformat import read, NO_CONVERT\n",
    "    import os\n",
    "    import datetime\n",
    "    res = \"Start time: \" + str(datetime.datetime.now())\n",
    "    with open(nbfile) as fp:\n",
    "        notebook = read(fp, NO_CONVERT)\n",
    "    cells = notebook['cells']\n",
    "    code_cells = [c for c in cells if c['cell_type'] == 'code']\n",
    "    for i, cell in enumerate(code_cells):\n",
    "        src = cell['source']\n",
    "        #print(\"{0}<{1}>\".format(li, line))                \n",
    "        try:\n",
    "            exec(src, globals(), locals())\n",
    "        except Exception as e:\n",
    "            print(\"Error on cell {0}\\n\".format(i))\n",
    "            print(src)\n",
    "            print_source(cell)\n",
    "            exc_type, exc_obj, exc_tb = sys.exc_info()\n",
    "            import traceback\n",
    "            traceback.print_tb(exc_tb)\n",
    "            fname = os.path.split(exc_tb.tb_frame.f_code.co_filename)[1]\n",
    "            print(exc_type, fname, exc_tb.tb_lineno)\n",
    "            return((exc_type, exc_obj, exc_tb, fname))\n",
    "    res += \"end: \" + str(datetime.datetime.now())\n",
    "    return res\n",
    "%run bar.ipynb"
   ]
  },
  {
   "cell_type": "code",
   "execution_count": null,
   "metadata": {
    "ExecuteTime": {
     "end_time": "2020-11-23T21:19:04.982485Z",
     "start_time": "2020-11-23T21:19:04.970454Z"
    }
   },
   "outputs": [],
   "source": [
    "%run bar.ipynb"
   ]
  },
  {
   "cell_type": "code",
   "execution_count": 6,
   "metadata": {
    "ExecuteTime": {
     "end_time": "2020-11-24T06:53:14.755733Z",
     "start_time": "2020-11-24T06:51:58.710791Z"
    }
   },
   "outputs": [
    {
     "name": "stdout",
     "output_type": "stream",
     "text": [
      "fred.ipynb\n",
      "version 3.7.9 of Python\n",
      "version 5.8.0 of IPython\n",
      "version 1.1.3 of pd\n",
      "version 5.0.8 of nbformat\n",
      "version 1.19.2 of np\n",
      "version 3.3.3 of mpl\n",
      "0.4.2\n",
      "USPRIV, rows= 166\n",
      "NPPTTL, rows= 166\n",
      "ICSA, rows= 724\n",
      "CCSA, rows= 723\n",
      "JTS1000JOL, rows= 165\n",
      "JTS1000HIL, rows= 165\n",
      "JTS1000TSL, rows= 165\n",
      "CSCICP03USM665S, rows= 166\n",
      "BSCICP03USM665S, rows= 166\n",
      "UNRATE, rows= 166\n",
      "UNEMPLOY, rows= 166\n",
      "CLF16OV, rows= 166\n",
      "UEMP27OV, rows= 166\n",
      "U6Rate, rows= 166\n",
      "CIVPART, rows= 166\n",
      "LNS12032194, rows= 166\n",
      "     realtime_start        date      value series_id         description  \\\n",
      "1053     2020-11-05  2020-10-31     751000      ICSA      Initial Claims   \n",
      "1054     2020-11-12  2020-11-07     709000      ICSA      Initial Claims   \n",
      "1778     2020-11-19  2020-11-07  6.372e+06      CCSA   Continued Claims    \n",
      "1055     2020-11-19  2020-11-14     742000      ICSA      Initial Claims   \n",
      "\n",
      "          dtime  \n",
      "1053 2020-10-31  \n",
      "1054 2020-11-07  \n",
      "1778 2020-11-07  \n",
      "1055 2020-11-14  \n",
      "           date  USPRIV    ICSA JTS1000JOL\n",
      "0    2007-01-01  115137     NaN       4102\n",
      "166  2007-01-06     NaN  322000        NaN\n",
      "167  2007-01-13     NaN  295000        NaN\n",
      "168  2007-01-20     NaN  337000        NaN\n",
      "169  2007-01-27     NaN  309000        NaN\n",
      "1    2007-02-01  115242     NaN       4069\n",
      "170  2007-02-03     NaN  307000        NaN\n",
      "171  2007-02-10     NaN  332000        NaN\n",
      "172  2007-02-17     NaN  323000        NaN\n",
      "173  2007-02-24     NaN  319000        NaN\n",
      "           date  USPRIV    ICSA JTS1000JOL\n",
      "858  2020-09-19     NaN  870000        NaN\n",
      "859  2020-09-26     NaN  837000        NaN\n",
      "165  2020-10-01  120844     NaN        NaN\n",
      "860  2020-10-03     NaN  840000        NaN\n",
      "861  2020-10-10     NaN  898000        NaN\n",
      "862  2020-10-17     NaN  787000        NaN\n",
      "863  2020-10-24     NaN  751000        NaN\n",
      "864  2020-10-31     NaN  751000        NaN\n",
      "865  2020-11-07     NaN  709000        NaN\n",
      "866  2020-11-14     NaN  742000        NaN\n",
      "2020-11-24 01:52:24.257429\n",
      "DataSources.ipynb\n",
      "google.ipynb\n",
      "version 3.7.9 of Python\n",
      "No __version__ for _sh as _sh\n",
      "version IPython of IPython as 5.8.0 \n",
      "version pd of pandas as 1.1.3 \n",
      "version nbformat of nbformat as 5.0.8 \n",
      "version np of numpy as 1.19.2 \n",
      "version mpl of matplotlib as 3.3.3 \n",
      "No __version__ for plt as plt\n",
      "version fredapi of fredapi as 0.4.2 \n",
      "version pn of plotnine as 0.7.1 \n",
      "No __version__ for pt as pt\n",
      "            work  isPartial\n",
      "date                       \n",
      "2020-07-07    82      False\n",
      "2020-07-08    89      False\n",
      "            work  isPartial\n",
      "date                       \n",
      "2020-11-20    70      False\n",
      "2020-11-21    57      False\n",
      "Start 2020-11-24 01:52:26.351724\n",
      "<kw#1='jobs''>, <kw#2='unemployment''>, <kw#3='jobs near me''>, <kw#4='unemployment jobs''>, <kw#5='jobs hiring near me''>, <kw#6='unemployment benefits''>, <kw#7='unemployment florida''>, <kw#8='part time jobs near me hiring''>, <kw#9='part time unemployment benefits''>, <kw#10='careersource''>, <kw#11='job hiring near me''>, <kw#12='unemployment benefits for part time workers''>, <kw#13='careersource florida''>, <kw#14='hiring jobs near me''>, <kw#15='careersource central florida''>, <kw#16='careersource north central florida''>, Done 2020-11-24 01:52:48.589488\n",
      "Found 16 queries\n",
      "Index(['careersource north central florida', 'careersource central florida',\n",
      "       'hiring jobs near me', 'careersource florida',\n",
      "       'unemployment benefits for part time workers', 'job hiring near me',\n",
      "       'careersource', 'part time unemployment benefits',\n",
      "       'part time jobs near me hiring', 'unemployment florida',\n",
      "       'unemployment benefits', 'jobs hiring near me', 'unemployment jobs',\n",
      "       'jobs near me', 'unemployment', 'jobs'],\n",
      "      dtype='object')\n"
     ]
    },
    {
     "data": {
      "text/plain": [
       "<Figure size 2000x1000 with 16 Axes>"
      ]
     },
     "metadata": {},
     "output_type": "display_data"
    },
    {
     "data": {
      "text/plain": [
       "<Figure size 2000x1000 with 16 Axes>"
      ]
     },
     "metadata": {},
     "output_type": "display_data"
    },
    {
     "data": {
      "text/plain": [
       "<Figure size 1200x600 with 1 Axes>"
      ]
     },
     "metadata": {},
     "output_type": "display_data"
    },
    {
     "data": {
      "text/plain": [
       "<Figure size 2000x1000 with 1 Axes>"
      ]
     },
     "metadata": {},
     "output_type": "display_data"
    },
    {
     "name": "stdout",
     "output_type": "stream",
     "text": [
      "2020-11-24 01:52:57.115920\n",
      "Intro_Overview.ipynb\n",
      "weekly_claims.ipynb\n",
      "version 3.7.9 of Python\n",
      "version 5.8.0 of IPython\n",
      "version 1.1.3 of pd\n",
      "version 5.0.8 of nbformat\n",
      "version 1.19.2 of np\n",
      "version 3.3.3 of mpl\n",
      "version 0.4.2 of fredapi\n",
      "version 0.7.1 of pn\n",
      "version 1.2.0 of xlrd\n",
      "version 3.141.0 of selenium\n",
      "version 3.14.1 of webdriver\n",
      "new file: ./data/temp\\weekly_pandemic_claims.xlsx\n",
      "          date    PUA IC      PUA CC    PEUC CC\n",
      "27  2020-10-10  337228.0  10152753.0  3308937.0\n",
      "28  2020-10-17  345440.0  10324779.0  3691720.0\n",
      "29  2020-10-24  359044.0   9332610.0  3983613.0\n",
      "30  2020-10-31  361959.0   9433127.0  4143389.0\n",
      "31  2020-11-07  298154.0         NaN        NaN\n",
      "umich_cs.ipynb\n",
      "version 3.7.9 of Python\n",
      "version 5.8.0 of IPython\n",
      "version 1.1.3 of pd\n",
      "version 5.0.8 of nbformat\n",
      "version 1.19.2 of np\n",
      "version 3.3.3 of mpl\n",
      "version 0.4.2 of fredapi\n",
      "version 0.7.1 of pn\n",
      "version 1.2.0 of xlrd\n",
      "version 3.141.0 of selenium\n",
      "version 3.14.1 of webdriver\n",
      "version 2.2.1 of re\n",
      "set()\n",
      "{'sca-table5-on-2020-Nov-24.csv'}\n",
      "new file: ./data/temp\\sca-table5-on-2020-Nov-24.csv\n",
      "Index(['Month', 'Year', 'Personal Finance Current',\n",
      "       'Personal Finance Expected', 'Business Condition 12 Months',\n",
      "       'Business Condition 5 Years', 'Buying Conditions', 'Current Index',\n",
      "       'Expected Index', 'Unnamed: 9'],\n",
      "      dtype='object')\n",
      "2020-11-24 01:53:14.597733\n",
      "combiningData.ipynb\n",
      "fred  shape:(3768, 7)\n",
      "google_keywords  shape:(16, 6)\n",
      "tidy_fred  shape:(867, 18)\n",
      "umich_exp  shape:(153, 5)\n",
      "us_pau_claims  shape:(32, 4)\n",
      "Index(['ICSA', 'CCSA', 'PUA IC', 'PUA CC', 'PEUC CC'], dtype='object')\n",
      "                ICSA        CCSA    PUA IC      PUA CC    PEUC CC\n",
      "date                                                             \n",
      "2020-09-19  870000.0  11767000.0  630080.0  11828338.0  1815066.0\n",
      "2020-09-26  837000.0  10976000.0  450548.0  10381364.0  1969800.0\n",
      "2020-10-01       NaN         NaN       NaN         NaN        NaN\n",
      "2020-10-03  840000.0  10018000.0  378916.0  10658673.0  2794868.0\n",
      "2020-10-10  898000.0   8373000.0  337228.0  10152753.0  3308937.0\n",
      "2020-10-17  787000.0   7756000.0  345440.0  10324779.0  3691720.0\n",
      "2020-10-24  751000.0   7285000.0  359044.0   9332610.0  3983613.0\n",
      "2020-10-31  751000.0   6786000.0  361959.0   9433127.0  4143389.0\n",
      "2020-11-07  709000.0   6372000.0  298154.0         NaN        NaN\n",
      "2020-11-14  742000.0         NaN       NaN         NaN        NaN\n",
      "                 CCSA      PUA CC    PEUC CC\n",
      "date                                        \n",
      "2020-10-10  8373000.0  10152753.0  3308937.0\n",
      "2020-10-17  7756000.0  10324779.0  3691720.0\n",
      "2020-10-24  7285000.0   9332610.0  3983613.0\n",
      "2020-10-31  6786000.0   9433127.0  4143389.0\n",
      "2020-11-07  6372000.0         NaN        NaN\n",
      "                ICSA    PUA IC\n",
      "date                          \n",
      "2020-10-17  787000.0  345440.0\n",
      "2020-10-24  751000.0  359044.0\n",
      "2020-10-31  751000.0  361959.0\n",
      "2020-11-07  709000.0  298154.0\n",
      "2020-11-14  742000.0       NaN\n"
     ]
    },
    {
     "data": {
      "text/plain": [
       "<Figure size 1200x600 with 2 Axes>"
      ]
     },
     "metadata": {},
     "output_type": "display_data"
    },
    {
     "data": {
      "text/plain": [
       "<Figure size 1600x400 with 1 Axes>"
      ]
     },
     "metadata": {},
     "output_type": "display_data"
    },
    {
     "data": {
      "text/plain": [
       "<Figure size 1400x800 with 2 Axes>"
      ]
     },
     "metadata": {},
     "output_type": "display_data"
    }
   ],
   "source": [
    "nbs = get_project_notebooks()\n",
    "nbs = [ 'fred.ipynb',\n",
    "         'DataSources.ipynb',\n",
    "    'google.ipynb',\n",
    "   'Intro_Overview.ipynb',\n",
    "     'weekly_claims.ipynb', \n",
    "    'umich_cs.ipynb',\n",
    "      'combiningData.ipynb'\n",
    "       ]\n",
    "for nb in nbs:\n",
    "    print(nb)\n",
    "    %run $nb"
   ]
  },
  {
   "cell_type": "code",
   "execution_count": null,
   "metadata": {},
   "outputs": [],
   "source": []
  },
  {
   "cell_type": "code",
   "execution_count": null,
   "metadata": {
    "ExecuteTime": {
     "end_time": "2020-11-23T19:08:24.637109Z",
     "start_time": "2020-11-23T19:08:24.632128Z"
    }
   },
   "outputs": [],
   "source": [
    "# traceback opbeimport traceback\n",
    "(exc_type, exc_obj, exc_tb, fname) = res\n",
    "traceback.print_tb(exc_tb)"
   ]
  },
  {
   "cell_type": "code",
   "execution_count": null,
   "metadata": {
    "ExecuteTime": {
     "end_time": "2020-11-23T12:23:14.760008Z",
     "start_time": "2020-11-23T12:23:14.755009Z"
    }
   },
   "outputs": [],
   "source": [
    "all_nb_filenames = [f for f in os.listdir() if f.endswith(\".ipynb\")]\n",
    "print(all_nb_filenames)\n",
    "proj_nb_filenames = ['fred.ipynb', 'combiningData.ipynb', 'DataSources.ipynb', 'fastpages-howto.ipynb', \n",
    "                     'foo.ipynb', 'fred.ipynb', 'google.ipynb', 'Intro_Overview.ipynb', 'umich_cs.ipynb', 'weekly_claims.ipynb']"
   ]
  },
  {
   "cell_type": "code",
   "execution_count": null,
   "metadata": {
    "ExecuteTime": {
     "end_time": "2020-11-23T10:32:42.781278Z",
     "start_time": "2020-11-23T10:32:42.773249Z"
    }
   },
   "outputs": [],
   "source": [
    "import IPython\n",
    "app = IPython.Application.instance()\n",
    "dir(app.kernel)\n",
    "app.kernel.do_shutdown(restart=True)\n",
    "#app.kernel.do_shutdown(True) \n",
    "print(datetime.datetime.now())"
   ]
  },
  {
   "cell_type": "code",
   "execution_count": null,
   "metadata": {},
   "outputs": [],
   "source": [
    "import re\n",
    "head, tail = os.path.split(downloaded_fpath)\n",
    "base, ext = os.path.splitext(tail)\n",
    "pattern = \"(.*)(\\(.*\\))\"\n",
    "match = re.match(pattern, base)\n",
    "if not match:\n",
    "    msg = \"Error cleaning {0}\\nNo match for pattern: <{1}>\".format(fpath, pattern)\n",
    "    raise Exception(msg)\n",
    "new_base = match.group(1).strip()\n",
    "new_fname = new_base + ext\n",
    "return new_fname"
   ]
  },
  {
   "cell_type": "code",
   "execution_count": null,
   "metadata": {
    "ExecuteTime": {
     "end_time": "2020-11-23T10:48:28.904029Z",
     "start_time": "2020-11-23T10:48:28.893029Z"
    }
   },
   "outputs": [],
   "source": [
    "def print_vars(globs=True, locs=True, \n",
    "               filters={\"exclude\":(\"^_\",)}):\n",
    "    import re\n",
    "    dicts = {\"globs\":globals().keys(),\n",
    "            \"locs\":locals().keys()}\n",
    "    for k,v in dicts.items():\n",
    "        print(\"k={0}, eval(k)= {1}\".format(k, eval(k)))\n",
    "        if eval(k):\n",
    "            y = [x for x in dicts[k]]\n",
    "            if filters:\n",
    "                if filters[\"exclude\"]:\n",
    "                    for filt in filters[\"exclude\"]:\n",
    "                        print(\"excluding: {0}\".format(filt))\n",
    "                        y = [x for x in y if not re.search(filt, x)]\n",
    "            print(\"{0}= {1}\".format(k,y))\n",
    "        del y\n",
    "print_vars()"
   ]
  },
  {
   "cell_type": "code",
   "execution_count": null,
   "metadata": {},
   "outputs": [],
   "source": []
  },
  {
   "cell_type": "code",
   "execution_count": null,
   "metadata": {
    "ExecuteTime": {
     "end_time": "2020-11-23T10:33:00.154004Z",
     "start_time": "2020-11-23T10:33:00.101132Z"
    }
   },
   "outputs": [],
   "source": [
    "z"
   ]
  },
  {
   "cell_type": "code",
   "execution_count": null,
   "metadata": {},
   "outputs": [],
   "source": []
  }
 ],
 "metadata": {
  "kernelspec": {
   "display_name": "Python 3",
   "language": "python",
   "name": "python3"
  },
  "language_info": {
   "codemirror_mode": {
    "name": "ipython",
    "version": 3
   },
   "file_extension": ".py",
   "mimetype": "text/x-python",
   "name": "python",
   "nbconvert_exporter": "python",
   "pygments_lexer": "ipython3",
   "version": "3.7.9"
  }
 },
 "nbformat": 4,
 "nbformat_minor": 4
}
