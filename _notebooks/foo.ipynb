{
 "cells": [
  {
   "cell_type": "markdown",
   "metadata": {},
   "source": [
    "# Sandbox: Ignore this\n",
    "\n",
    "This notebook contains little experiments on doing things with python, jupyter, ipython et cetera\n",
    "   It's not a central part of the project.\n",
    "    \n",
    "   Mostly ad hoc code snippets.  And not documented well"
   ]
  },
  {
   "cell_type": "code",
   "execution_count": 45,
   "metadata": {
    "ExecuteTime": {
     "end_time": "2020-11-24T06:51:17.881958Z",
     "start_time": "2020-11-24T06:51:16.914536Z"
    }
   },
   "outputs": [
    {
     "name": "stdout",
     "output_type": "stream",
     "text": [
      "sys.version_info(major=3, minor=8, micro=5, releaselevel='final', serial=0)\n"
     ]
    }
   ],
   "source": [
    "import os\n",
    "import sys\n",
    "import time\n",
    "import datetime\n",
    "import touch\n",
    "import inspect\n",
    "import datetime\n",
    "# don't really need these below, just for testing\n",
    "import numpy\n",
    "from PIL import Image \n",
    "import plotnine as pn\n",
    "import pandas as pd\n",
    "print(sys.version_info)"
   ]
  },
  {
   "cell_type": "code",
   "execution_count": 46,
   "metadata": {},
   "outputs": [
    {
     "name": "stdout",
     "output_type": "stream",
     "text": [
      "version 3.8.5 of Python\n",
      "version re of re as 2.2.1 \n",
      "No __version__ for touch as touch\n",
      "version numpy of numpy as 1.19.3 \n",
      "version Image of Image as 8.0.1 \n",
      "version pn of plotnine as 0.7.1 \n",
      "version pd of pandas as 1.1.3 \n",
      "No __version__ for io as io\n",
      "version np of numpy as 1.19.3 \n",
      "version mpl of matplotlib as 3.3.3 \n",
      "No __version__ for plt as plt\n",
      "version fredapi of fredapi as 0.4.2 \n",
      "version xlrd of xlrd as 1.2.0 \n",
      "version selenium of selenium as 3.141.0 \n",
      "version webdriver of webdriver as 3.14.1 \n",
      "No __version__ for mdates as mdates\n",
      "No __version__ for pytrends as pytrends\n",
      "version pytz of pytz as 2020.1 \n",
      "version nbformat of nbformat as 5.0.8 \n"
     ]
    }
   ],
   "source": [
    "mlist = list(filter(lambda x: inspect.ismodule(x[1]), locals().items()))\n",
    "vi = sys.version_info\n",
    "print(\"version {0}.{1}.{2} of Python\".format(vi.major, vi.minor, vi.micro))\n",
    "for name, mod in mlist:\n",
    "    mname = name\n",
    "    if name.startswith(\"__\"):\n",
    "        continue\n",
    "    if hasattr(mod, \"__version__\"):\n",
    "        mname = name\n",
    "        if hasattr(mod, \"__path__\"):\n",
    "            mname = os.path.split(mod.__path__[0])[1]\n",
    "        print(\"version {1} of {0} as {2} \".format(mname, name, mod.__version__))\n",
    "    elif hasattr(mod, \"__file__\") and \"site-packages\" in mod.__file__:\n",
    "        print(\"No __version__ for {0} as {1}\".format(mname, name))\n",
    "del mod\n",
    "del name"
   ]
  },
  {
   "cell_type": "code",
   "execution_count": 47,
   "metadata": {
    "ExecuteTime": {
     "end_time": "2020-11-24T06:51:18.014601Z",
     "start_time": "2020-11-24T06:51:17.881958Z"
    }
   },
   "outputs": [],
   "source": [
    "# snippet to see the source code for a fuction\n",
    "import inspect\n",
    "import nbformat\n",
    "fname = \"nbformat.convert\"\n",
    "lines = inspect.getsource(eval(fname))\n",
    "#print(lines)"
   ]
  },
  {
   "cell_type": "code",
   "execution_count": 48,
   "metadata": {
    "ExecuteTime": {
     "end_time": "2020-11-24T06:51:41.721852Z",
     "start_time": "2020-11-24T06:51:41.685659Z"
    }
   },
   "outputs": [
    {
     "name": "stdout",
     "output_type": "stream",
     "text": [
      "['combining_claims.ipynb', 'DataSources.ipynb', 'fastpages-howto.ipynb', 'foo.ipynb', 'fred.ipynb', 'google.ipynb', 'Intro_Overview.ipynb', 'setup.ipynb', 'Setup_old.ipynb', 'umich_cs.ipynb', 'weekly_claims.ipynb']\n",
      "['Intro_Overview.ipynb', 'DataSources.ipynb', 'fred.ipynb', 'weekly_claims.ipynb', 'umich_cs.ipynb', 'google.ipynb', 'combining_claims.ipynb']\n"
     ]
    }
   ],
   "source": [
    "# to get the names of notebook files in a directory\n",
    "def get_project_notebooks():\n",
    "    from nbformat import read, NO_CONVERT\n",
    "    import os\n",
    "    import datetime\n",
    "    proj_nbs = []\n",
    "    nb_fnames = [f for f in os.listdir() if f.endswith(\".ipynb\")]\n",
    "    for fn in nb_fnames:\n",
    "        with open(fn) as fp:\n",
    "            notebook = read(fp, as_version=NO_CONVERT)\n",
    "        cells = notebook['cells']\n",
    "        if not cells:\n",
    "            continue\n",
    "        src =cells[0][\"source\"]\n",
    "        if not src:\n",
    "            continue\n",
    "        lines = src.split(\"\\n\")\n",
    "        if lines[0].startswith(\"# \"):\n",
    "            proj_nbs.append(fn)\n",
    "    return(proj_nbs)\n",
    "\n",
    "\n",
    "# print the source code for a cell\n",
    "def print_source(cell):\n",
    "    print(\"type cell= {0}\".format(type(cell)))\n",
    "    src = cell[\"source\"]\n",
    "    lines = src.split(\"\\n\")\n",
    "    print(\"{0} lines\".format(len(lines)))\n",
    "    for i,line in enumerate(lines):\n",
    "        print(\"({0}){1}\".format(i, line))\n",
    "\n",
    "# run notebook code\n",
    "def run_nb_code(nbfile):\n",
    "    from nbformat import read, NO_CONVERT\n",
    "    import os\n",
    "    import datetime\n",
    "    res = \"Start time: \" + str(datetime.datetime.now())\n",
    "    with open(nbfile) as fp:\n",
    "        notebook = read(fp, NO_CONVERT)\n",
    "    cells = notebook['cells']\n",
    "    code_cells = [c for c in cells if c['cell_type'] == 'code']\n",
    "    for i, cell in enumerate(code_cells):\n",
    "        src = cell['source']\n",
    "        #print(\"{0}<{1}>\".format(li, line))                \n",
    "        try:\n",
    "            exec(src, globals(), locals())\n",
    "        except Exception as e:\n",
    "            print(\"Error on cell {0}\\n\".format(i))\n",
    "            print(src)\n",
    "            print_source(cell)\n",
    "            exc_type, exc_obj, exc_tb = sys.exc_info()\n",
    "            import traceback\n",
    "            traceback.print_tb(exc_tb)\n",
    "            fname = os.path.split(exc_tb.tb_frame.f_code.co_filename)[1]\n",
    "            print(exc_type, fname, exc_tb.tb_lineno)\n",
    "            return((exc_type, exc_obj, exc_tb, fname))\n",
    "    res += \"end: \" + str(datetime.datetime.now())\n",
    "    return res\n",
    "# run notebook code\n",
    "def get_first_cell_line(nbfile):\n",
    "    from nbformat import read, NO_CONVERT\n",
    "    import os\n",
    "    import datetime\n",
    "    res = \"Start time: \" + str(datetime.datetime.now())\n",
    "    with open(nbfile) as fp:\n",
    "        notebook = read(fp, NO_CONVERT)\n",
    "    cells = notebook['cells']\n",
    "    if not cells:\n",
    "        return \"\"\n",
    "    lines = cells[0][\"source\"].split(\"\\n\")\n",
    "    if not lines:\n",
    "        return \"\"\n",
    "    return lines[0]\n",
    "def ordered_notebooks():\n",
    "    nbs = get_project_notebooks()\n",
    "    nbord = [None]*len(nbs)\n",
    "    end_index = len(nbs)-1\n",
    "    for nb in nbs:\n",
    "        line0 = get_first_cell_line(nb)\n",
    "        parts = line0.split(' ')\n",
    "        index = -1\n",
    "        if len(parts) >= 3 and parts[0]=='#' and parts[1]=='Part':\n",
    "            try:\n",
    "                index = int(parts[2]) - 1\n",
    "            except Exception as e:\n",
    "                pass\n",
    "        if  index == -1:\n",
    "            continue\n",
    "        nbord[index] = nb\n",
    "    nbord = [nb for nb in nbord if nb]\n",
    "    return (nbord)\n",
    "print(get_project_notebooks())\n",
    "print(ordered_notebooks())"
   ]
  },
  {
   "cell_type": "code",
   "execution_count": 49,
   "metadata": {
    "ExecuteTime": {
     "end_time": "2020-11-24T06:53:14.755733Z",
     "start_time": "2020-11-24T06:51:58.710791Z"
    }
   },
   "outputs": [
    {
     "name": "stdout",
     "output_type": "stream",
     "text": [
      "['Intro_Overview.ipynb', 'DataSources.ipynb', 'fred.ipynb', 'weekly_claims.ipynb', 'umich_cs.ipynb', 'google.ipynb', 'combining_claims.ipynb']\n",
      "\n",
      "Runnning Intro_Overview.ipynb\n",
      "\n",
      "Runnning DataSources.ipynb\n",
      "\n",
      "Runnning fred.ipynb\n",
      "\n",
      "Runnning weekly_claims.ipynb\n",
      "\n",
      "Runnning umich_cs.ipynb\n",
      "\n",
      "Runnning google.ipynb\n",
      "\n",
      "Runnning combining_claims.ipynb\n"
     ]
    }
   ],
   "source": [
    "from IPython.utils.capture import CapturedIO\n",
    "from IPython.utils.capture import capture_output\n",
    "nbs = ordered_notebooks()\n",
    "print(nbs)\n",
    "ofname = 'foo_out.txt'\n",
    "with open(ofname, mode='w') as fp:\n",
    "    fp.write(\"Datetime= {0}\".format(str(datetime.datetime.now())))\n",
    "outstr = \"\"\n",
    "x = None\n",
    "for nb in nbs:\n",
    "    print(\"\\nRunnning {0}\".format(nb))\n",
    "    with capture_output() as co:\n",
    "        %run  $nb\n",
    "        ofname = os.path.splitext(nb)[0] + \".out\"\n",
    "        with open(ofname, mode=\"w\") as fp:\n",
    "            fp.write(str(datetime.datetime.now()))\n",
    "            fp.write(\" stdout\\n{0}\\ns stderr{1}\".format(co.stdout, co.stderr))\n",
    "            for o in co.outputs:\n",
    "                fp.write(str(o))"
   ]
  },
  {
   "cell_type": "code",
   "execution_count": 50,
   "metadata": {},
   "outputs": [
    {
     "name": "stdout",
     "output_type": "stream",
     "text": [
      "['Intro_Overview.ipynb', 'DataSources.ipynb', 'fred.ipynb', 'weekly_claims.ipynb', 'umich_cs.ipynb', 'google.ipynb', 'combining_claims.ipynb', 'Setup_old.ipynb', 'setup.ipynb', 'foo.ipynb', 'fastpages-howto.ipynb']\n"
     ]
    }
   ],
   "source": [
    "# Touch them in order\n",
    "import time\n",
    "nbs = get_project_notebooks()\n",
    "last  = len(nbs) - 1\n",
    "nblist = [\"\"]*len(nbs)\n",
    "for nb in nbs:\n",
    "    line = get_first_cell_line(nb)\n",
    "    line_parts = line.split(\" \")\n",
    "    if len(line_parts) > 3 and line_parts[1] == \"Part\":\n",
    "        try:\n",
    "            index = int(line_parts[2]) - 1\n",
    "        except:\n",
    "            index = last\n",
    "            last -= 1\n",
    "    else:\n",
    "        index = last\n",
    "        last -= 1\n",
    "    nblist[index] = nb\n",
    "    #print(f\"{nb}, index={index}, {line}\")\n",
    "print(nblist)\n",
    "def add_str_to_file(fname, str=\"\\n\"):\n",
    "    with open(fname, mode='a') as fp:\n",
    "        fp.write(str)\n",
    "    return\n",
    "if False:\n",
    "    for nb in nblist:\n",
    "        try:\n",
    "            print(\"{0} {1}\".format(nb, datetime.datetime.now()))\n",
    "            touch.touch(nb)\n",
    "            add_str_to_file(nb, str=\"\\n\")\n",
    "            time.sleep(61)\n",
    "        except Exception as e:\n",
    "            print(e)"
   ]
  },
  {
   "cell_type": "code",
   "execution_count": 1,
   "metadata": {
    "ExecuteTime": {
     "end_time": "2020-11-23T10:48:28.904029Z",
     "start_time": "2020-11-23T10:48:28.893029Z"
    }
   },
   "outputs": [
    {
     "name": "stdout",
     "output_type": "stream",
     "text": [
      "k=globs, eval(k)= True\n",
      "excluding: ^_\n",
      "globs= ['In', 'Out', 'get_ipython', 'exit', 'quit', 'print_vars']\n",
      "k=locs, eval(k)= True\n",
      "excluding: ^_\n",
      "locs= ['globs', 'locs', 'filters', 're', 'dicts', 'k', 'v', 'filt']\n"
     ]
    }
   ],
   "source": [
    "def print_vars(globs=True, locs=True, \n",
    "               filters={\"exclude\":(\"^_\",)}):\n",
    "    import re\n",
    "    dicts = {\"globs\":globals().keys(),\n",
    "            \"locs\":locals().keys()}\n",
    "    for k,v in dicts.items():\n",
    "        print(\"k={0}, eval(k)= {1}\".format(k, eval(k)))\n",
    "        if eval(k):\n",
    "            y = [x for x in dicts[k]]\n",
    "            if filters:\n",
    "                if filters[\"exclude\"]:\n",
    "                    for filt in filters[\"exclude\"]:\n",
    "                        print(\"excluding: {0}\".format(filt))\n",
    "                        y = [x for x in y if not re.search(filt, x)]\n",
    "            print(\"{0}= {1}\".format(k,y))\n",
    "        del y\n",
    "print_vars()"
   ]
  },
  {
   "cell_type": "code",
   "execution_count": null,
   "metadata": {},
   "outputs": [],
   "source": []
  }
 ],
 "metadata": {
  "kernelspec": {
   "display_name": "jobs",
   "language": "python",
   "name": "jobs"
  },
  "language_info": {
   "codemirror_mode": {
    "name": "ipython",
    "version": 3
   },
   "file_extension": ".py",
   "mimetype": "text/x-python",
   "name": "python",
   "nbconvert_exporter": "python",
   "pygments_lexer": "ipython3",
   "version": "3.8.5"
  }
 },
 "nbformat": 4,
 "nbformat_minor": 4
}
