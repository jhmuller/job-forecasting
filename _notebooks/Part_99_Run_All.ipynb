{
 "cells": [
  {
   "cell_type": "markdown",
   "metadata": {},
   "source": [
    "   # Part10: Run Notebooks\n"
   ]
  },
  {
   "cell_type": "code",
   "execution_count": 1,
   "metadata": {
    "ExecuteTime": {
     "end_time": "2020-11-24T06:51:17.881958Z",
     "start_time": "2020-11-24T06:51:16.914536Z"
    }
   },
   "outputs": [
    {
     "name": "stdout",
     "output_type": "stream",
     "text": [
      "sys.version_info(major=3, minor=9, micro=2, releaselevel='final', serial=0)\n"
     ]
    }
   ],
   "source": [
    "import os\n",
    "import sys\n",
    "import time\n",
    "import datetime\n",
    "import touch\n",
    "import inspect\n",
    "import numpy\n",
    "import pandas as pd\n",
    "print(sys.version_info)"
   ]
  },
  {
   "cell_type": "code",
   "execution_count": 2,
   "metadata": {},
   "outputs": [
    {
     "name": "stdout",
     "output_type": "stream",
     "text": [
      "version 3.9.2 of Python\n",
      "No __version__ for touch as touch\n",
      "version numpy of numpy as 1.20.1 \n",
      "version pd of pandas as 1.2.3 \n"
     ]
    }
   ],
   "source": [
    "mlist = list(filter(lambda x: inspect.ismodule(x[1]), locals().items()))\n",
    "vi = sys.version_info\n",
    "print(\"version {0}.{1}.{2} of Python\".format(vi.major, vi.minor, vi.micro))\n",
    "for name, mod in mlist:\n",
    "    mname = name\n",
    "    if name.startswith(\"__\"):\n",
    "        continue\n",
    "    if hasattr(mod, \"__version__\"):\n",
    "        mname = name\n",
    "        if hasattr(mod, \"__path__\"):\n",
    "            mname = os.path.split(mod.__path__[0])[1]\n",
    "        print(\"version {1} of {0} as {2} \".format(mname, name, mod.__version__))\n",
    "    elif hasattr(mod, \"__file__\") and \"site-packages\" in mod.__file__:\n",
    "        print(\"No __version__ for {0} as {1}\".format(mname, name))\n",
    "del mod\n",
    "del name"
   ]
  },
  {
   "cell_type": "code",
   "execution_count": 3,
   "metadata": {
    "ExecuteTime": {
     "end_time": "2020-11-24T06:51:39.513160Z",
     "start_time": "2020-11-24T06:51:39.333165Z"
    }
   },
   "outputs": [],
   "source": [
    "# to get the names of notebook files in a directory\n",
    "def get_project_notebooks():\n",
    "    from nbformat import read, NO_CONVERT\n",
    "    import os\n",
    "    import datetime\n",
    "    proj_nbs = []\n",
    "    nbs = [f for f in os.listdir() if f.endswith(\".ipynb\")]\n",
    "    part_nbs = [f for f in nbs if f.startswith(\"Part\")]\n",
    "    return(part_nbs)\n"
   ]
  },
  {
   "cell_type": "code",
   "execution_count": 4,
   "metadata": {
    "ExecuteTime": {
     "end_time": "2020-11-24T06:51:41.721852Z",
     "start_time": "2020-11-24T06:51:41.685659Z"
    }
   },
   "outputs": [],
   "source": [
    "# print the source code for a cell\n",
    "def print_source(cell):\n",
    "    print(\"type cell= {0}\".format(type(cell)))\n",
    "    src = cell[\"source\"]\n",
    "    lines = src.split(\"\\n\")\n",
    "    print(\"{0} lines\".format(len(lines)))\n",
    "    for i,line in enumerate(lines):\n",
    "        print(\"({0}){1}\".format(i, line))\n",
    "\n",
    "# run notebook code\n",
    "def run_nb_code(nbfile):\n",
    "    from nbformat import read, NO_CONVERT\n",
    "    import os\n",
    "    import datetime\n",
    "    res = \"Start time: \" + str(datetime.datetime.now())\n",
    "    with open(nbfile) as fp:\n",
    "        notebook = read(fp, NO_CONVERT)\n",
    "    cells = notebook['cells']\n",
    "    code_cells = [c for c in cells if c['cell_type'] == 'code']\n",
    "    for i, cell in enumerate(code_cells):\n",
    "        src = cell['source']\n",
    "        #print(\"{0}<{1}>\".format(li, line))                \n",
    "        try:\n",
    "            exec(src, globals(), locals())\n",
    "        except Exception as e:\n",
    "            print(\"Error on cell {0}\\n\".format(i))\n",
    "            print(src)\n",
    "            print_source(cell)\n",
    "            exc_type, exc_obj, exc_tb = sys.exc_info()\n",
    "            import traceback\n",
    "            traceback.print_tb(exc_tb)\n",
    "            fname = os.path.split(exc_tb.tb_frame.f_code.co_filename)[1]\n",
    "            print(exc_type, fname, exc_tb.tb_lineno)\n",
    "            return((exc_type, exc_obj, exc_tb, fname))\n",
    "    res += \"end: \" + str(datetime.datetime.now())\n",
    "    return res\n",
    "# run notebook code\n",
    "def get_first_cell_line(nbfile):\n",
    "    from nbformat import read, NO_CONVERT\n",
    "    import os\n",
    "    import datetime\n",
    "    res = \"Start time: \" + str(datetime.datetime.now())\n",
    "    with open(nbfile) as fp:\n",
    "        notebook = read(fp, NO_CONVERT)\n",
    "    cells = notebook['cells']\n",
    "    if not cells:\n",
    "        return \"\"\n",
    "    lines = cells[0][\"source\"].split(\"\\n\")\n",
    "    if not lines:\n",
    "        return \"\"\n",
    "    return lines[0]\n"
   ]
  },
  {
   "cell_type": "code",
   "execution_count": 5,
   "metadata": {
    "ExecuteTime": {
     "end_time": "2020-11-24T06:53:14.755733Z",
     "start_time": "2020-11-24T06:51:58.710791Z"
    }
   },
   "outputs": [
    {
     "name": "stdout",
     "output_type": "stream",
     "text": [
      "['Part_0_Setup.ipynb', 'Part_1_Intro_Overview.ipynb', 'Part_2_DataSources.ipynb', 'Part_3_Fred.ipynb', 'Part_4_Weekly_Claims.ipynb', 'Part_5_UMich_Sentiment.ipynb', 'Part_6_GoogleTrends.ipynb', 'Part_7_Plot_Claims.ipynb', 'Part_8_Combine_Datasets.ipynb']\n"
     ]
    }
   ],
   "source": [
    "def get_run_order(nb_names, verbosity=0):\n",
    "  tups = []\n",
    "  not_run = []\n",
    "  \n",
    "  for nb_name in nb_names:\n",
    "    if verbosity > 0:\n",
    "      print(nb_name)\n",
    "    name_parts = nb_name.split(\"_\")\n",
    "    if len(name_parts) < 2:\n",
    "      not_run.append((\"name doesn't start with 'Part'\", nb_name))\n",
    "      continue\n",
    "    elif name_parts[1] == \"99\":\n",
    "      not_run.append((\"runall\", nb_name))\n",
    "      continue\n",
    "    try:\n",
    "      id = int(name_parts[1])\n",
    "      tups.append((id, nb_name))\n",
    "    except:\n",
    "      not_run.append(\"can't convert {0} to int\".format(name_parts[1]), nb_name)\n",
    "  tups.sort()\n",
    "  to_run = [x[1] for x in tups]\n",
    "  return to_run, not_run\n",
    "  \n",
    "  \n",
    "nb_names = get_project_notebooks()\n",
    "\n",
    "to_run, not_run = get_run_order(nb_names, verbosity=0)\n",
    "print(to_run)"
   ]
  },
  {
   "cell_type": "code",
   "execution_count": 13,
   "metadata": {
    "ExecuteTime": {
     "end_time": "2020-11-24T06:53:14.755733Z",
     "start_time": "2020-11-24T06:51:58.710791Z"
    }
   },
   "outputs": [
    {
     "name": "stderr",
     "output_type": "stream",
     "text": [
      "Part_7_Plot_Claims.ipynb  <2021-05-10 23:45:47.022320>\n",
      "  done  <Part_7_Plot_Claims.ipynb>\n",
      "Part_8_Combine_Datasets.ipynb  <2021-05-10 23:45:47.500103>\n",
      "ConvergenceWarning: Objective did not converge. You might want to increase the number of iterations. Duality gap: 112253.7557246302, tolerance: 46865.29669919356 [_coordinate_descent.py:530]\n",
      "  done  <Part_8_Combine_Datasets.ipynb>\n"
     ]
    }
   ],
   "source": [
    "%%capture --no-stderr nb_out\n",
    "def extract_part(name):\n",
    "  parts = name.split(\"_\")\n",
    "  try:\n",
    "    part = int(parts[1])\n",
    "    return part\n",
    "  except:\n",
    "    exc_type, exc_obj, exc_tb = sys.exc_info()\n",
    "    fname = os.path.split(exc_tb.tb_frame.f_code.co_filename)[1]\n",
    "    print(exc_type, fname, exc_tb.tb_lineno)     \n",
    "    \n",
    "for nb_name in to_run:\n",
    "    part = extract_part(nb_name)\n",
    "    if part < 7:\n",
    "      continue\n",
    "    sys.stderr.write(\"{0}  <{1}>\\n\".format(nb_name, datetime.datetime.now()))\n",
    "    %run $nb_name\n",
    "    sys.stderr.write(\"  done  <{0}>\\n\".format(nb_name, datetime.datetime.now()))    "
   ]
  },
  {
   "cell_type": "code",
   "execution_count": 14,
   "metadata": {},
   "outputs": [
    {
     "name": "stdout",
     "output_type": "stream",
     "text": [
      "google_trends  shape:(103, 21)\n",
      "tidy_fred  shape:(897, 18)\n",
      "umich_exp  shape:(159, 5)\n",
      "us_pau_claims  shape:(58, 4)\n",
      "date                        object\n",
      "ICSA: Initial Claims       float64\n",
      "CCSA: Continued Claims     float64\n",
      "dtype: object\n",
      "date shape: (897,)\n",
      " done, <2021-05-10 23:45:47.098657>\n",
      "Index(['ICSA: Initial Claims', 'CCSA: Continued Claims ', 'PUA IC', 'PUA CC',\n",
      "       'PEUC CC'],\n",
      "      dtype='object')\n",
      "['google_trends.csv', 'tidy_fred.csv', 'umich_exp.csv', 'us_pau_claims.csv']\n",
      "google_trends.csv\n",
      "           date  amazon jobs hiring\n",
      "102  2021-05-02                  14\n",
      "2021-05-02\n",
      "tidy_fred.csv\n",
      "           date  PAYEMS:Total Nonfarm\n",
      "896  2021-05-01                   NaN\n",
      "2021-05-02\n",
      "umich_exp.csv\n",
      "           date  Personal Finance Expected\n",
      "158  2021-03-15                        118\n",
      "2021-05-02\n",
      "us_pau_claims.csv\n",
      "          date  PUA IC\n",
      "57  2021-05-08  101214\n",
      "2021-05-08\n",
      "124 7\n",
      "AxesSubplot(0.125,0.125;0.775x0.755)\n",
      "(15, 3)\n",
      "\n"
     ]
    }
   ],
   "source": [
    "print(nb_out.stdout)"
   ]
  },
  {
   "cell_type": "code",
   "execution_count": null,
   "metadata": {},
   "outputs": [],
   "source": []
  }
 ],
 "metadata": {
  "kernelspec": {
   "display_name": "payems",
   "language": "python",
   "name": "payems"
  },
  "language_info": {
   "codemirror_mode": {
    "name": "ipython",
    "version": 3
   },
   "file_extension": ".py",
   "mimetype": "text/x-python",
   "name": "python",
   "nbconvert_exporter": "python",
   "pygments_lexer": "ipython3",
   "version": "3.9.2"
  }
 },
 "nbformat": 4,
 "nbformat_minor": 4
}
