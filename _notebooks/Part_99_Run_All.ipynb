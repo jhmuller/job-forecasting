{
 "cells": [
  {
   "cell_type": "markdown",
   "metadata": {},
   "source": [
    "   # Part10: Run Notebooks\n"
   ]
  },
  {
   "cell_type": "code",
   "execution_count": 1,
   "metadata": {
    "ExecuteTime": {
     "end_time": "2020-11-24T06:51:17.881958Z",
     "start_time": "2020-11-24T06:51:16.914536Z"
    }
   },
   "outputs": [
    {
     "name": "stdout",
     "output_type": "stream",
     "text": [
      "sys.version_info(major=3, minor=9, micro=2, releaselevel='final', serial=0)\n"
     ]
    }
   ],
   "source": [
    "import os\n",
    "import sys\n",
    "import time\n",
    "import datetime\n",
    "import touch\n",
    "import inspect\n",
    "import numpy\n",
    "import pandas as pd\n",
    "print(sys.version_info)"
   ]
  },
  {
   "cell_type": "code",
   "execution_count": 2,
   "metadata": {},
   "outputs": [
    {
     "name": "stdout",
     "output_type": "stream",
     "text": [
      "version 3.9.2 of Python\n",
      "No __version__ for touch as touch\n",
      "version numpy of numpy as 1.20.1 \n",
      "version pd of pandas as 1.2.3 \n"
     ]
    }
   ],
   "source": [
    "mlist = list(filter(lambda x: inspect.ismodule(x[1]), locals().items()))\n",
    "vi = sys.version_info\n",
    "print(\"version {0}.{1}.{2} of Python\".format(vi.major, vi.minor, vi.micro))\n",
    "for name, mod in mlist:\n",
    "    mname = name\n",
    "    if name.startswith(\"__\"):\n",
    "        continue\n",
    "    if hasattr(mod, \"__version__\"):\n",
    "        mname = name\n",
    "        if hasattr(mod, \"__path__\"):\n",
    "            mname = os.path.split(mod.__path__[0])[1]\n",
    "        print(\"version {1} of {0} as {2} \".format(mname, name, mod.__version__))\n",
    "    elif hasattr(mod, \"__file__\") and \"site-packages\" in mod.__file__:\n",
    "        print(\"No __version__ for {0} as {1}\".format(mname, name))\n",
    "del mod\n",
    "del name"
   ]
  },
  {
   "cell_type": "code",
   "execution_count": 5,
   "metadata": {
    "ExecuteTime": {
     "end_time": "2020-11-24T06:51:39.513160Z",
     "start_time": "2020-11-24T06:51:39.333165Z"
    }
   },
   "outputs": [
    {
     "data": {
      "text/plain": [
       "['Part_0_Setup.ipynb',\n",
       " 'Part_1_Intro_Overview.ipynb',\n",
       " 'Part_2_DataSources.ipynb',\n",
       " 'Part_3_Fred.ipynb',\n",
       " 'Part_4_Weekly_Claims.ipynb',\n",
       " 'Part_5_UMich_Sentiment.ipynb',\n",
       " 'Part_6_GoogleTrends.ipynb',\n",
       " 'Part_7_Combine_claims.ipynb',\n",
       " 'Part_8_Combine_Datasets.ipynb',\n",
       " 'Part_99_Run_All.ipynb']"
      ]
     },
     "execution_count": 5,
     "metadata": {},
     "output_type": "execute_result"
    }
   ],
   "source": [
    "# to get the names of notebook files in a directory\n",
    "def get_project_notebooks():\n",
    "    from nbformat import read, NO_CONVERT\n",
    "    import os\n",
    "    import datetime\n",
    "    proj_nbs = []\n",
    "    nbs = [f for f in os.listdir() if f.endswith(\".ipynb\")]\n",
    "    part_nbs = [f for f in nbs if f.startswith(\"Part\")]\n",
    "    return(part_nbs)\n"
   ]
  },
  {
   "cell_type": "code",
   "execution_count": 8,
   "metadata": {
    "ExecuteTime": {
     "end_time": "2020-11-24T06:51:41.721852Z",
     "start_time": "2020-11-24T06:51:41.685659Z"
    }
   },
   "outputs": [],
   "source": [
    "# print the source code for a cell\n",
    "def print_source(cell):\n",
    "    print(\"type cell= {0}\".format(type(cell)))\n",
    "    src = cell[\"source\"]\n",
    "    lines = src.split(\"\\n\")\n",
    "    print(\"{0} lines\".format(len(lines)))\n",
    "    for i,line in enumerate(lines):\n",
    "        print(\"({0}){1}\".format(i, line))\n",
    "\n",
    "# run notebook code\n",
    "def run_nb_code(nbfile):\n",
    "    from nbformat import read, NO_CONVERT\n",
    "    import os\n",
    "    import datetime\n",
    "    res = \"Start time: \" + str(datetime.datetime.now())\n",
    "    with open(nbfile) as fp:\n",
    "        notebook = read(fp, NO_CONVERT)\n",
    "    cells = notebook['cells']\n",
    "    code_cells = [c for c in cells if c['cell_type'] == 'code']\n",
    "    for i, cell in enumerate(code_cells):\n",
    "        src = cell['source']\n",
    "        #print(\"{0}<{1}>\".format(li, line))                \n",
    "        try:\n",
    "            exec(src, globals(), locals())\n",
    "        except Exception as e:\n",
    "            print(\"Error on cell {0}\\n\".format(i))\n",
    "            print(src)\n",
    "            print_source(cell)\n",
    "            exc_type, exc_obj, exc_tb = sys.exc_info()\n",
    "            import traceback\n",
    "            traceback.print_tb(exc_tb)\n",
    "            fname = os.path.split(exc_tb.tb_frame.f_code.co_filename)[1]\n",
    "            print(exc_type, fname, exc_tb.tb_lineno)\n",
    "            return((exc_type, exc_obj, exc_tb, fname))\n",
    "    res += \"end: \" + str(datetime.datetime.now())\n",
    "    return res\n",
    "# run notebook code\n",
    "def get_first_cell_line(nbfile):\n",
    "    from nbformat import read, NO_CONVERT\n",
    "    import os\n",
    "    import datetime\n",
    "    res = \"Start time: \" + str(datetime.datetime.now())\n",
    "    with open(nbfile) as fp:\n",
    "        notebook = read(fp, NO_CONVERT)\n",
    "    cells = notebook['cells']\n",
    "    if not cells:\n",
    "        return \"\"\n",
    "    lines = cells[0][\"source\"].split(\"\\n\")\n",
    "    if not lines:\n",
    "        return \"\"\n",
    "    return lines[0]\n"
   ]
  },
  {
   "cell_type": "code",
   "execution_count": 21,
   "metadata": {
    "ExecuteTime": {
     "end_time": "2020-11-24T06:53:14.755733Z",
     "start_time": "2020-11-24T06:51:58.710791Z"
    }
   },
   "outputs": [
    {
     "name": "stdout",
     "output_type": "stream",
     "text": [
      "['Part_0_Setup.ipynb', 'Part_1_Intro_Overview.ipynb', 'Part_2_DataSources.ipynb', 'Part_3_Fred.ipynb', 'Part_4_Weekly_Claims.ipynb', 'Part_5_UMich_Sentiment.ipynb', 'Part_6_GoogleTrends.ipynb', 'Part_7_Combine_claims.ipynb', 'Part_8_Combine_Datasets.ipynb']\n"
     ]
    }
   ],
   "source": [
    "def get_run_order(nb_names, verbosity=0):\n",
    "  tups = []\n",
    "  not_run = []\n",
    "  \n",
    "  for nb_name in nb_names:\n",
    "    if verbosity > 0:\n",
    "      print(nb_name)\n",
    "    name_parts = nb_name.split(\"_\")\n",
    "    if len(name_parts) < 2:\n",
    "      not_run.append((\"name doesn't start with 'Part'\", nb_name))\n",
    "      continue\n",
    "    elif name_parts[1] == \"99\":\n",
    "      not_run.append((\"runall\", nb_name))\n",
    "      continue\n",
    "    try:\n",
    "      id = int(name_parts[1])\n",
    "      tups.append((id, nb_name))\n",
    "    except:\n",
    "      not_run.append(\"can't convert {0} to int\".format(name_parts[1]), nb_name)\n",
    "  tups.sort()\n",
    "  to_run = [x[1] for x in tups]\n",
    "  return to_run, not_run\n",
    "  \n",
    "  \n",
    "nb_names = get_project_notebooks()\n",
    "\n",
    "to_run, not_run = get_run_order(nb_names, verbosity=0)\n",
    "print(to_run)"
   ]
  },
  {
   "cell_type": "code",
   "execution_count": 27,
   "metadata": {
    "ExecuteTime": {
     "end_time": "2020-11-24T06:53:14.755733Z",
     "start_time": "2020-11-24T06:51:58.710791Z"
    }
   },
   "outputs": [
    {
     "name": "stderr",
     "output_type": "stream",
     "text": [
      "Part_0_Setup.ipynb  <2021-05-05 17:30:31.146525>\n",
      "  done  <Part_0_Setup.ipynb>\n",
      "Part_1_Intro_Overview.ipynb  <2021-05-05 17:30:51.891249>\n",
      "  done  <Part_1_Intro_Overview.ipynb>\n",
      "Part_2_DataSources.ipynb  <2021-05-05 17:31:12.936194>\n",
      "  done  <Part_2_DataSources.ipynb>\n",
      "Part_3_Fred.ipynb  <2021-05-05 17:31:33.859758>\n",
      "  done  <Part_3_Fred.ipynb>\n",
      "Part_4_Weekly_Claims.ipynb  <2021-05-05 17:31:54.418535>\n",
      "  done  <Part_4_Weekly_Claims.ipynb>\n",
      "Part_5_UMich_Sentiment.ipynb  <2021-05-05 17:32:15.866728>\n",
      "  done  <Part_5_UMich_Sentiment.ipynb>\n",
      "Part_6_GoogleTrends.ipynb  <2021-05-05 17:32:36.743354>\n",
      "  done  <Part_6_GoogleTrends.ipynb>\n",
      "Part_7_Combine_claims.ipynb  <2021-05-05 17:32:56.796807>\n",
      "  done  <Part_7_Combine_claims.ipynb>\n",
      "Part_8_Combine_Datasets.ipynb  <2021-05-05 17:33:16.517497>\n",
      "  done  <Part_8_Combine_Datasets.ipynb>\n"
     ]
    }
   ],
   "source": [
    "%%capture --no-stderr nb_out\n",
    "for nb_name in to_run:\n",
    "    sys.stderr.write(\"{0}  <{1}>\\n\".format(nb_name, datetime.datetime.now()))\n",
    "    %run $nb\n",
    "    sys.stderr.write(\"  done  <{0}>\\n\".format(nb_name, datetime.datetime.now()))    "
   ]
  },
  {
   "cell_type": "code",
   "execution_count": 29,
   "metadata": {},
   "outputs": [
    {
     "data": {
      "text/plain": [
       "'version 3.9.2 of Python\\nversion 1.20.1 of numpy\\nversion 1.2.3 of pd\\nversion 1.20.1 of np\\nversion 3.3.4 of mpl\\nversion 0.4.2 of fredapi\\nversion 2.0.1 of xlrd\\nversion 3.141.0 of selenium\\nversion 3.14.1 of webdriver\\nversion 2.2.1 of re\\nversion 0.7.1 of pn\\n0.4.2\\nseries: USPRIV, obs_start: 2007-01-01, obs_end: 2021-05-05\\nget_series_all_releases <2021-05-05 17:30:31.165489\\nrows= 171\\nseries: NPPTTL, obs_start: 2007-01-01, obs_end: 2021-05-05\\nget_series_all_releases <2021-05-05 17:30:31.956680\\nrows= 172\\nseries: ICSA, obs_start: 2007-01-01, obs_end: 2021-05-05\\nget_series_all_releases <2021-05-05 17:30:32.859096\\nrows= 747\\nseries: CCSA, obs_start: 2007-01-01, obs_end: 2021-05-05\\nget_series_all_releases <2021-05-05 17:30:34.195306\\nrows= 746\\nseries: JTS1000JOL, obs_start: 2007-01-01, obs_end: 2021-05-05\\nget_series_all_releases <2021-05-05 17:30:35.894419\\nrows= 170\\nseries: JTS1000HIL, obs_start: 2007-01-01, obs_end: 2021-05-05\\nget_series_all_releases <2021-05-05 17:30:36.511989\\nrows= 170\\nseries: JTS1000TSL, obs_start: 2007-01-01, obs_end: 2021-05-05\\nget_series_all_releases <2021-05-05 17:30:37.123152\\nrows= 170\\nseries: CSCICP03USM665S, obs_start: 2007-01-01, obs_end: 2021-05-05\\nget_series_all_releases <2021-05-05 17:30:37.759059\\nrows= 171\\nseries: BSCICP03USM665S, obs_start: 2007-01-01, obs_end: 2021-05-05\\nget_series_all_releases <2021-05-05 17:30:40.479169\\nrows= 171\\nseries: UNRATE, obs_start: 2007-01-01, obs_end: 2021-05-05\\nget_series_all_releases <2021-05-05 17:30:43.467788\\nrows= 171\\nseries: UNEMPLOY, obs_start: 2007-01-01, obs_end: 2021-05-05\\nget_series_all_releases <2021-05-05 17:30:43.795724\\nrows= 171\\nseries: CLF16OV, obs_start: 2007-01-01, obs_end: 2021-05-05\\nget_series_all_releases <2021-05-05 17:30:44.389366\\nrows= 171\\nseries: UEMP27OV, obs_start: 2007-01-01, obs_end: 2021-05-05\\nget_series_all_releases <2021-05-05 17:30:44.902832\\nrows= 171\\nseries: U6Rate, obs_start: 2007-01-01, obs_end: 2021-05-05\\nget_series_all_releases <2021-05-05 17:30:45.506641\\nrows= 171\\nseries: CIVPART, obs_start: 2007-01-01, obs_end: 2021-05-05\\nget_series_all_releases <2021-05-05 17:30:45.829266\\nrows= 171\\nseries: LNS12032194, obs_start: 2007-01-01, obs_end: 2021-05-05\\nget_series_all_releases <2021-05-05 17:30:46.209798\\nrows= 171\\n              USPRIV      ICSA JTS1000JOL\\ndate                                     \\n2007-01-01  115137.0       NaN     4102.0\\n2007-01-06       NaN  322000.0        NaN\\n2007-01-13       NaN  295000.0        NaN\\n2007-01-20       NaN  337000.0        NaN\\n2007-01-27       NaN  309000.0        NaN\\n2007-02-01  115242.0       NaN     4069.0\\n2007-02-03       NaN  307000.0        NaN\\n2007-02-10       NaN  332000.0        NaN\\n2007-02-17       NaN  323000.0        NaN\\n2007-02-24       NaN  319000.0        NaN\\n              USPRIV      ICSA JTS1000JOL\\ndate                                     \\n2021-03-01  122507.0       NaN        NaN\\n2021-03-06       NaN  712000.0        NaN\\n2021-03-13       NaN  770000.0        NaN\\n2021-03-20       NaN  684000.0        NaN\\n2021-03-27       NaN  719000.0        NaN\\n2021-04-01       NaN       NaN        NaN\\n2021-04-03       NaN  744000.0        NaN\\n2021-04-10       NaN  576000.0        NaN\\n2021-04-17       NaN  547000.0        NaN\\n2021-04-24       NaN  553000.0        NaN\\n2021-05-05 17:30:51.891249\\nversion 3.9.2 of Python\\nversion 1.20.1 of numpy\\nversion 1.2.3 of pd\\nversion 1.20.1 of np\\nversion 3.3.4 of mpl\\nversion 0.4.2 of fredapi\\nversion 2.0.1 of xlrd\\nversion 3.141.0 of selenium\\nversion 3.14.1 of webdriver\\nversion 2.2.1 of re\\nversion 0.7.1 of pn\\n0.4.2\\nseries: USPRIV, obs_start: 2007-01-01, obs_end: 2021-05-05\\nget_series_all_releases <2021-05-05 17:30:51.909201\\nrows= 171\\nseries: NPPTTL, obs_start: 2007-01-01, obs_end: 2021-05-05\\nget_series_all_releases <2021-05-05 17:30:52.627586\\nrows= 172\\nseries: ICSA, obs_start: 2007-01-01, obs_end: 2021-05-05\\nget_series_all_releases <2021-05-05 17:30:53.498550\\nrows= 747\\nseries: CCSA, obs_start: 2007-01-01, obs_end: 2021-05-05\\nget_series_all_releases <2021-05-05 17:30:54.848290\\nrows= 746\\nseries: JTS1000JOL, obs_start: 2007-01-01, obs_end: 2021-05-05\\nget_series_all_releases <2021-05-05 17:30:56.415174\\nrows= 170\\nseries: JTS1000HIL, obs_start: 2007-01-01, obs_end: 2021-05-05\\nget_series_all_releases <2021-05-05 17:30:57.123021\\nrows= 170\\nseries: JTS1000TSL, obs_start: 2007-01-01, obs_end: 2021-05-05\\nget_series_all_releases <2021-05-05 17:30:57.919025\\nrows= 170\\nseries: CSCICP03USM665S, obs_start: 2007-01-01, obs_end: 2021-05-05\\nget_series_all_releases <2021-05-05 17:30:58.531046\\nrows= 171\\nseries: BSCICP03USM665S, obs_start: 2007-01-01, obs_end: 2021-05-05\\nget_series_all_releases <2021-05-05 17:31:01.777435\\nrows= 171\\nseries: UNRATE, obs_start: 2007-01-01, obs_end: 2021-05-05\\nget_series_all_releases <2021-05-05 17:31:04.456716\\nrows= 171\\nseries: UNEMPLOY, obs_start: 2007-01-01, obs_end: 2021-05-05\\nget_series_all_releases <2021-05-05 17:31:04.850702\\nrows= 171\\nseries: CLF16OV, obs_start: 2007-01-01, obs_end: 2021-05-05\\nget_series_all_releases <2021-05-05 17:31:05.404043\\nrows= 171\\nseries: UEMP27OV, obs_start: 2007-01-01, obs_end: 2021-05-05\\nget_series_all_releases <2021-05-05 17:31:05.996530\\nrows= 171\\nseries: U6Rate, obs_start: 2007-01-01, obs_end: 2021-05-05\\nget_series_all_releases <2021-05-05 17:31:06.544552\\nrows= 171\\nseries: CIVPART, obs_start: 2007-01-01, obs_end: 2021-05-05\\nget_series_all_releases <2021-05-05 17:31:06.916401\\nrows= 171\\nseries: LNS12032194, obs_start: 2007-01-01, obs_end: 2021-05-05\\nget_series_all_releases <2021-05-05 17:31:07.265964\\nrows= 171\\n              USPRIV      ICSA JTS1000JOL\\ndate                                     \\n2007-01-01  115137.0       NaN     4102.0\\n2007-01-06       NaN  322000.0        NaN\\n2007-01-13       NaN  295000.0        NaN\\n2007-01-20       NaN  337000.0        NaN\\n2007-01-27       NaN  309000.0        NaN\\n2007-02-01  115242.0       NaN     4069.0\\n2007-02-03       NaN  307000.0        NaN\\n2007-02-10       NaN  332000.0        NaN\\n2007-02-17       NaN  323000.0        NaN\\n2007-02-24       NaN  319000.0        NaN\\n              USPRIV      ICSA JTS1000JOL\\ndate                                     \\n2021-03-01  122507.0       NaN        NaN\\n2021-03-06       NaN  712000.0        NaN\\n2021-03-13       NaN  770000.0        NaN\\n2021-03-20       NaN  684000.0        NaN\\n2021-03-27       NaN  719000.0        NaN\\n2021-04-01       NaN       NaN        NaN\\n2021-04-03       NaN  744000.0        NaN\\n2021-04-10       NaN  576000.0        NaN\\n2021-04-17       NaN  547000.0        NaN\\n2021-04-24       NaN  553000.0        NaN\\n2021-05-05 17:31:12.936194\\nversion 3.9.2 of Python\\nversion 1.20.1 of numpy\\nversion 1.2.3 of pd\\nversion 1.20.1 of np\\nversion 3.3.4 of mpl\\nversion 0.4.2 of fredapi\\nversion 2.0.1 of xlrd\\nversion 3.141.0 of selenium\\nversion 3.14.1 of webdriver\\nversion 2.2.1 of re\\nversion 0.7.1 of pn\\n0.4.2\\nseries: USPRIV, obs_start: 2007-01-01, obs_end: 2021-05-05\\nget_series_all_releases <2021-05-05 17:31:12.954123\\nrows= 171\\nseries: NPPTTL, obs_start: 2007-01-01, obs_end: 2021-05-05\\nget_series_all_releases <2021-05-05 17:31:13.662006\\nrows= 171\\nseries: ICSA, obs_start: 2007-01-01, obs_end: 2021-05-05\\nget_series_all_releases <2021-05-05 17:31:14.521711\\nrows= 747\\nseries: CCSA, obs_start: 2007-01-01, obs_end: 2021-05-05\\nget_series_all_releases <2021-05-05 17:31:16.277054\\nrows= 746\\nseries: JTS1000JOL, obs_start: 2007-01-01, obs_end: 2021-05-05\\nget_series_all_releases <2021-05-05 17:31:17.906877\\nrows= 170\\nseries: JTS1000HIL, obs_start: 2007-01-01, obs_end: 2021-05-05\\nget_series_all_releases <2021-05-05 17:31:18.488503\\nrows= 170\\nseries: JTS1000TSL, obs_start: 2007-01-01, obs_end: 2021-05-05\\nget_series_all_releases <2021-05-05 17:31:19.069395\\nrows= 170\\nseries: CSCICP03USM665S, obs_start: 2007-01-01, obs_end: 2021-05-05\\nget_series_all_releases <2021-05-05 17:31:19.593344\\nrows= 171\\nseries: BSCICP03USM665S, obs_start: 2007-01-01, obs_end: 2021-05-05\\nget_series_all_releases <2021-05-05 17:31:22.463706\\nrows= 171\\nseries: UNRATE, obs_start: 2007-01-01, obs_end: 2021-05-05\\nget_series_all_releases <2021-05-05 17:31:25.359979\\nrows= 171\\nseries: UNEMPLOY, obs_start: 2007-01-01, obs_end: 2021-05-05\\nget_series_all_releases <2021-05-05 17:31:25.739945\\nrows= 171\\nseries: CLF16OV, obs_start: 2007-01-01, obs_end: 2021-05-05\\nget_series_all_releases <2021-05-05 17:31:26.313863\\nrows= 171\\nseries: UEMP27OV, obs_start: 2007-01-01, obs_end: 2021-05-05\\nget_series_all_releases <2021-05-05 17:31:26.904051\\nrows= 171\\nseries: U6Rate, obs_start: 2007-01-01, obs_end: 2021-05-05\\nget_series_all_releases <2021-05-05 17:31:27.544035\\nrows= 171\\nseries: CIVPART, obs_start: 2007-01-01, obs_end: 2021-05-05\\nget_series_all_releases <2021-05-05 17:31:27.916160\\nrows= 171\\nseries: LNS12032194, obs_start: 2007-01-01, obs_end: 2021-05-05\\nget_series_all_releases <2021-05-05 17:31:28.297992\\nrows= 171\\n              USPRIV      ICSA JTS1000JOL\\ndate                                     \\n2007-01-01  115137.0       NaN     4102.0\\n2007-01-06       NaN  322000.0        NaN\\n2007-01-13       NaN  295000.0        NaN\\n2007-01-20       NaN  337000.0        NaN\\n2007-01-27       NaN  309000.0        NaN\\n2007-02-01  115242.0       NaN     4069.0\\n2007-02-03       NaN  307000.0        NaN\\n2007-02-10       NaN  332000.0        NaN\\n2007-02-17       NaN  323000.0        NaN\\n2007-02-24       NaN  319000.0        NaN\\n              USPRIV      ICSA JTS1000JOL\\ndate                                     \\n2021-02-27       NaN  745000.0        NaN\\n2021-03-01  122507.0       NaN        NaN\\n2021-03-06       NaN  712000.0        NaN\\n2021-03-13       NaN  770000.0        NaN\\n2021-03-20       NaN  684000.0        NaN\\n2021-03-27       NaN  719000.0        NaN\\n2021-04-03       NaN  744000.0        NaN\\n2021-04-10       NaN  576000.0        NaN\\n2021-04-17       NaN  547000.0        NaN\\n2021-04-24       NaN  553000.0        NaN\\n2021-05-05 17:31:33.859758\\nversion 3.9.2 of Python\\nversion 1.20.1 of numpy\\nversion 1.2.3 of pd\\nversion 1.20.1 of np\\nversion 3.3.4 of mpl\\nversion 0.4.2 of fredapi\\nversion 2.0.1 of xlrd\\nversion 3.141.0 of selenium\\nversion 3.14.1 of webdriver\\nversion 2.2.1 of re\\nversion 0.7.1 of pn\\n0.4.2\\nseries: USPRIV, obs_start: 2007-01-01, obs_end: 2021-05-05\\nget_series_all_releases <2021-05-05 17:31:33.878708\\nrows= 171\\nseries: NPPTTL, obs_start: 2007-01-01, obs_end: 2021-05-05\\nget_series_all_releases <2021-05-05 17:31:34.682255\\nrows= 172\\nseries: ICSA, obs_start: 2007-01-01, obs_end: 2021-05-05\\nget_series_all_releases <2021-05-05 17:31:36.116574\\nrows= 747\\nseries: CCSA, obs_start: 2007-01-01, obs_end: 2021-05-05\\nget_series_all_releases <2021-05-05 17:31:37.424820\\nrows= 746\\nseries: JTS1000JOL, obs_start: 2007-01-01, obs_end: 2021-05-05\\nget_series_all_releases <2021-05-05 17:31:38.958119\\nrows= 170\\nseries: JTS1000HIL, obs_start: 2007-01-01, obs_end: 2021-05-05\\nget_series_all_releases <2021-05-05 17:31:39.450259\\nrows= 170\\nseries: JTS1000TSL, obs_start: 2007-01-01, obs_end: 2021-05-05\\nget_series_all_releases <2021-05-05 17:31:39.976541\\nrows= 170\\nseries: CSCICP03USM665S, obs_start: 2007-01-01, obs_end: 2021-05-05\\nget_series_all_releases <2021-05-05 17:31:40.586578\\nrows= 171\\nseries: BSCICP03USM665S, obs_start: 2007-01-01, obs_end: 2021-05-05\\nget_series_all_releases <2021-05-05 17:31:43.248226\\nrows= 171\\nseries: UNRATE, obs_start: 2007-01-01, obs_end: 2021-05-05\\nget_series_all_releases <2021-05-05 17:31:45.837272\\nrows= 171\\nseries: UNEMPLOY, obs_start: 2007-01-01, obs_end: 2021-05-05\\nget_series_all_releases <2021-05-05 17:31:46.342955\\nrows= 171\\nseries: CLF16OV, obs_start: 2007-01-01, obs_end: 2021-05-05\\nget_series_all_releases <2021-05-05 17:31:47.158590\\nrows= 171\\nseries: UEMP27OV, obs_start: 2007-01-01, obs_end: 2021-05-05\\nget_series_all_releases <2021-05-05 17:31:47.683921\\nrows= 171\\nseries: U6Rate, obs_start: 2007-01-01, obs_end: 2021-05-05\\nget_series_all_releases <2021-05-05 17:31:48.182244\\nrows= 171\\nseries: CIVPART, obs_start: 2007-01-01, obs_end: 2021-05-05\\nget_series_all_releases <2021-05-05 17:31:48.490241\\nrows= 171\\nseries: LNS12032194, obs_start: 2007-01-01, obs_end: 2021-05-05\\nget_series_all_releases <2021-05-05 17:31:48.766038\\nrows= 171\\n              USPRIV      ICSA JTS1000JOL\\ndate                                     \\n2007-01-01  115137.0       NaN     4102.0\\n2007-01-06       NaN  322000.0        NaN\\n2007-01-13       NaN  295000.0        NaN\\n2007-01-20       NaN  337000.0        NaN\\n2007-01-27       NaN  309000.0        NaN\\n2007-02-01  115242.0       NaN     4069.0\\n2007-02-03       NaN  307000.0        NaN\\n2007-02-10       NaN  332000.0        NaN\\n2007-02-17       NaN  323000.0        NaN\\n2007-02-24       NaN  319000.0        NaN\\n              USPRIV      ICSA JTS1000JOL\\ndate                                     \\n2021-03-01  122507.0       NaN        NaN\\n2021-03-06       NaN  712000.0        NaN\\n2021-03-13       NaN  770000.0        NaN\\n2021-03-20       NaN  684000.0        NaN\\n2021-03-27       NaN  719000.0        NaN\\n2021-04-01       NaN       NaN        NaN\\n2021-04-03       NaN  744000.0        NaN\\n2021-04-10       NaN  576000.0        NaN\\n2021-04-17       NaN  547000.0        NaN\\n2021-04-24       NaN  553000.0        NaN\\n2021-05-05 17:31:54.418535\\nversion 3.9.2 of Python\\nversion 1.20.1 of numpy\\nversion 1.2.3 of pd\\nversion 1.20.1 of np\\nversion 3.3.4 of mpl\\nversion 0.4.2 of fredapi\\nversion 2.0.1 of xlrd\\nversion 3.141.0 of selenium\\nversion 3.14.1 of webdriver\\nversion 2.2.1 of re\\nversion 0.7.1 of pn\\n0.4.2\\nseries: USPRIV, obs_start: 2007-01-01, obs_end: 2021-05-05\\nget_series_all_releases <2021-05-05 17:31:54.437485\\nrows= 171\\nseries: NPPTTL, obs_start: 2007-01-01, obs_end: 2021-05-05\\nget_series_all_releases <2021-05-05 17:31:55.107886\\nrows= 172\\nseries: ICSA, obs_start: 2007-01-01, obs_end: 2021-05-05\\nget_series_all_releases <2021-05-05 17:31:55.926705\\nrows= 747\\nseries: CCSA, obs_start: 2007-01-01, obs_end: 2021-05-05\\nget_series_all_releases <2021-05-05 17:31:57.149035\\nrows= 746\\nseries: JTS1000JOL, obs_start: 2007-01-01, obs_end: 2021-05-05\\nget_series_all_releases <2021-05-05 17:31:58.598607\\nrows= 170\\nseries: JTS1000HIL, obs_start: 2007-01-01, obs_end: 2021-05-05\\nget_series_all_releases <2021-05-05 17:31:59.075273\\nrows= 170\\nseries: JTS1000TSL, obs_start: 2007-01-01, obs_end: 2021-05-05\\nget_series_all_releases <2021-05-05 17:31:59.613411\\nrows= 170\\nseries: CSCICP03USM665S, obs_start: 2007-01-01, obs_end: 2021-05-05\\nget_series_all_releases <2021-05-05 17:32:00.126522\\nrows= 171\\nseries: BSCICP03USM665S, obs_start: 2007-01-01, obs_end: 2021-05-05\\nget_series_all_releases <2021-05-05 17:32:02.794274\\nrows= 171\\nseries: UNRATE, obs_start: 2007-01-01, obs_end: 2021-05-05\\nget_series_all_releases <2021-05-05 17:32:05.420750\\nrows= 171\\nseries: UNEMPLOY, obs_start: 2007-01-01, obs_end: 2021-05-05\\nget_series_all_releases <2021-05-05 17:32:05.990246\\nrows= 171\\nseries: CLF16OV, obs_start: 2007-01-01, obs_end: 2021-05-05\\nget_series_all_releases <2021-05-05 17:32:06.509425\\nrows= 171\\nseries: UEMP27OV, obs_start: 2007-01-01, obs_end: 2021-05-05\\nget_series_all_releases <2021-05-05 17:32:07.016217\\nrows= 171\\nseries: U6Rate, obs_start: 2007-01-01, obs_end: 2021-05-05\\nget_series_all_releases <2021-05-05 17:32:07.560705\\nrows= 171\\nseries: CIVPART, obs_start: 2007-01-01, obs_end: 2021-05-05\\nget_series_all_releases <2021-05-05 17:32:07.940806\\nrows= 171\\nseries: LNS12032194, obs_start: 2007-01-01, obs_end: 2021-05-05\\nget_series_all_releases <2021-05-05 17:32:10.302277\\nrows= 171\\n              USPRIV      ICSA JTS1000JOL\\ndate                                     \\n2007-01-01  115137.0       NaN     4102.0\\n2007-01-06       NaN  322000.0        NaN\\n2007-01-13       NaN  295000.0        NaN\\n2007-01-20       NaN  337000.0        NaN\\n2007-01-27       NaN  309000.0        NaN\\n2007-02-01  115242.0       NaN     4069.0\\n2007-02-03       NaN  307000.0        NaN\\n2007-02-10       NaN  332000.0        NaN\\n2007-02-17       NaN  323000.0        NaN\\n2007-02-24       NaN  319000.0        NaN\\n              USPRIV      ICSA JTS1000JOL\\ndate                                     \\n2021-03-01  122507.0       NaN        NaN\\n2021-03-06       NaN  712000.0        NaN\\n2021-03-13       NaN  770000.0        NaN\\n2021-03-20       NaN  684000.0        NaN\\n2021-03-27       NaN  719000.0        NaN\\n2021-04-01       NaN       NaN        NaN\\n2021-04-03       NaN  744000.0        NaN\\n2021-04-10       NaN  576000.0        NaN\\n2021-04-17       NaN  547000.0        NaN\\n2021-04-24       NaN  553000.0        NaN\\n2021-05-05 17:32:15.866728\\nversion 3.9.2 of Python\\nversion 1.20.1 of numpy\\nversion 1.2.3 of pd\\nversion 1.20.1 of np\\nversion 3.3.4 of mpl\\nversion 0.4.2 of fredapi\\nversion 2.0.1 of xlrd\\nversion 3.141.0 of selenium\\nversion 3.14.1 of webdriver\\nversion 2.2.1 of re\\nversion 0.7.1 of pn\\n0.4.2\\nseries: USPRIV, obs_start: 2007-01-01, obs_end: 2021-05-05\\nget_series_all_releases <2021-05-05 17:32:15.884680\\nrows= 171\\nseries: NPPTTL, obs_start: 2007-01-01, obs_end: 2021-05-05\\nget_series_all_releases <2021-05-05 17:32:16.651275\\nrows= 172\\nseries: ICSA, obs_start: 2007-01-01, obs_end: 2021-05-05\\nget_series_all_releases <2021-05-05 17:32:17.394748\\nrows= 747\\nseries: CCSA, obs_start: 2007-01-01, obs_end: 2021-05-05\\nget_series_all_releases <2021-05-05 17:32:18.772150\\nrows= 746\\nseries: JTS1000JOL, obs_start: 2007-01-01, obs_end: 2021-05-05\\nget_series_all_releases <2021-05-05 17:32:20.308018\\nrows= 170\\nseries: JTS1000HIL, obs_start: 2007-01-01, obs_end: 2021-05-05\\nget_series_all_releases <2021-05-05 17:32:20.842085\\nrows= 170\\nseries: JTS1000TSL, obs_start: 2007-01-01, obs_end: 2021-05-05\\nget_series_all_releases <2021-05-05 17:32:21.554463\\nrows= 170\\nseries: CSCICP03USM665S, obs_start: 2007-01-01, obs_end: 2021-05-05\\nget_series_all_releases <2021-05-05 17:32:22.085277\\nrows= 171\\nseries: BSCICP03USM665S, obs_start: 2007-01-01, obs_end: 2021-05-05\\nget_series_all_releases <2021-05-05 17:32:24.787000\\nrows= 171\\nseries: UNRATE, obs_start: 2007-01-01, obs_end: 2021-05-05\\nget_series_all_releases <2021-05-05 17:32:28.503157\\nrows= 171\\nseries: UNEMPLOY, obs_start: 2007-01-01, obs_end: 2021-05-05\\nget_series_all_releases <2021-05-05 17:32:28.866993\\nrows= 171\\nseries: CLF16OV, obs_start: 2007-01-01, obs_end: 2021-05-05\\nget_series_all_releases <2021-05-05 17:32:29.358839\\nrows= 171\\nseries: UEMP27OV, obs_start: 2007-01-01, obs_end: 2021-05-05\\nget_series_all_releases <2021-05-05 17:32:29.886264\\nrows= 171\\nseries: U6Rate, obs_start: 2007-01-01, obs_end: 2021-05-05\\nget_series_all_releases <2021-05-05 17:32:30.486520\\nrows= 171\\nseries: CIVPART, obs_start: 2007-01-01, obs_end: 2021-05-05\\nget_series_all_releases <2021-05-05 17:32:30.774846\\nrows= 171\\nseries: LNS12032194, obs_start: 2007-01-01, obs_end: 2021-05-05\\nget_series_all_releases <2021-05-05 17:32:31.201252\\nrows= 171\\n              USPRIV      ICSA JTS1000JOL\\ndate                                     \\n2007-01-01  115137.0       NaN     4102.0\\n2007-01-06       NaN  322000.0        NaN\\n2007-01-13       NaN  295000.0        NaN\\n2007-01-20       NaN  337000.0        NaN\\n2007-01-27       NaN  309000.0        NaN\\n2007-02-01  115242.0       NaN     4069.0\\n2007-02-03       NaN  307000.0        NaN\\n2007-02-10       NaN  332000.0        NaN\\n2007-02-17       NaN  323000.0        NaN\\n2007-02-24       NaN  319000.0        NaN\\n              USPRIV      ICSA JTS1000JOL\\ndate                                     \\n2021-03-01  122507.0       NaN        NaN\\n2021-03-06       NaN  712000.0        NaN\\n2021-03-13       NaN  770000.0        NaN\\n2021-03-20       NaN  684000.0        NaN\\n2021-03-27       NaN  719000.0        NaN\\n2021-04-01       NaN       NaN        NaN\\n2021-04-03       NaN  744000.0        NaN\\n2021-04-10       NaN  576000.0        NaN\\n2021-04-17       NaN  547000.0        NaN\\n2021-04-24       NaN  553000.0        NaN\\n2021-05-05 17:32:36.743354\\nversion 3.9.2 of Python\\nversion 1.20.1 of numpy\\nversion 1.2.3 of pd\\nversion 1.20.1 of np\\nversion 3.3.4 of mpl\\nversion 0.4.2 of fredapi\\nversion 2.0.1 of xlrd\\nversion 3.141.0 of selenium\\nversion 3.14.1 of webdriver\\nversion 2.2.1 of re\\nversion 0.7.1 of pn\\n0.4.2\\nseries: USPRIV, obs_start: 2007-01-01, obs_end: 2021-05-05\\nget_series_all_releases <2021-05-05 17:32:36.761332\\nrows= 171\\nseries: NPPTTL, obs_start: 2007-01-01, obs_end: 2021-05-05\\nget_series_all_releases <2021-05-05 17:32:37.519621\\nrows= 172\\nseries: ICSA, obs_start: 2007-01-01, obs_end: 2021-05-05\\nget_series_all_releases <2021-05-05 17:32:38.258675\\nrows= 747\\nseries: CCSA, obs_start: 2007-01-01, obs_end: 2021-05-05\\nget_series_all_releases <2021-05-05 17:32:39.445818\\nrows= 746\\nseries: JTS1000JOL, obs_start: 2007-01-01, obs_end: 2021-05-05\\nget_series_all_releases <2021-05-05 17:32:41.060289\\nrows= 170\\nseries: JTS1000HIL, obs_start: 2007-01-01, obs_end: 2021-05-05\\nget_series_all_releases <2021-05-05 17:32:41.532130\\nrows= 170\\nseries: JTS1000TSL, obs_start: 2007-01-01, obs_end: 2021-05-05\\nget_series_all_releases <2021-05-05 17:32:41.985582\\nrows= 170\\nseries: CSCICP03USM665S, obs_start: 2007-01-01, obs_end: 2021-05-05\\nget_series_all_releases <2021-05-05 17:32:42.638372\\nrows= 171\\nseries: BSCICP03USM665S, obs_start: 2007-01-01, obs_end: 2021-05-05\\nget_series_all_releases <2021-05-05 17:32:45.281467\\nrows= 171\\nseries: UNRATE, obs_start: 2007-01-01, obs_end: 2021-05-05\\nget_series_all_releases <2021-05-05 17:32:47.966028\\nrows= 171\\nseries: UNEMPLOY, obs_start: 2007-01-01, obs_end: 2021-05-05\\nget_series_all_releases <2021-05-05 17:32:48.392477\\nrows= 171\\nseries: CLF16OV, obs_start: 2007-01-01, obs_end: 2021-05-05\\nget_series_all_releases <2021-05-05 17:32:48.906798\\nrows= 171\\nseries: UEMP27OV, obs_start: 2007-01-01, obs_end: 2021-05-05\\nget_series_all_releases <2021-05-05 17:32:49.422614\\nrows= 171\\nseries: U6Rate, obs_start: 2007-01-01, obs_end: 2021-05-05\\nget_series_all_releases <2021-05-05 17:32:49.934330\\nrows= 171\\nseries: CIVPART, obs_start: 2007-01-01, obs_end: 2021-05-05\\nget_series_all_releases <2021-05-05 17:32:50.437864\\nrows= 171\\nseries: LNS12032194, obs_start: 2007-01-01, obs_end: 2021-05-05\\nget_series_all_releases <2021-05-05 17:32:50.979381\\nrows= 171\\n              USPRIV      ICSA JTS1000JOL\\ndate                                     \\n2007-01-01  115137.0       NaN     4102.0\\n2007-01-06       NaN  322000.0        NaN\\n2007-01-13       NaN  295000.0        NaN\\n2007-01-20       NaN  337000.0        NaN\\n2007-01-27       NaN  309000.0        NaN\\n2007-02-01  115242.0       NaN     4069.0\\n2007-02-03       NaN  307000.0        NaN\\n2007-02-10       NaN  332000.0        NaN\\n2007-02-17       NaN  323000.0        NaN\\n2007-02-24       NaN  319000.0        NaN\\n              USPRIV      ICSA JTS1000JOL\\ndate                                     \\n2021-03-01  122507.0       NaN        NaN\\n2021-03-06       NaN  712000.0        NaN\\n2021-03-13       NaN  770000.0        NaN\\n2021-03-20       NaN  684000.0        NaN\\n2021-03-27       NaN  719000.0        NaN\\n2021-04-01       NaN       NaN        NaN\\n2021-04-03       NaN  744000.0        NaN\\n2021-04-10       NaN  576000.0        NaN\\n2021-04-17       NaN  547000.0        NaN\\n2021-04-24       NaN  553000.0        NaN\\n2021-05-05 17:32:56.796807\\nversion 3.9.2 of Python\\nversion 1.20.1 of numpy\\nversion 1.2.3 of pd\\nversion 1.20.1 of np\\nversion 3.3.4 of mpl\\nversion 0.4.2 of fredapi\\nversion 2.0.1 of xlrd\\nversion 3.141.0 of selenium\\nversion 3.14.1 of webdriver\\nversion 2.2.1 of re\\nversion 0.7.1 of pn\\n0.4.2\\nseries: USPRIV, obs_start: 2007-01-01, obs_end: 2021-05-05\\nget_series_all_releases <2021-05-05 17:32:56.815759\\nrows= 171\\nseries: NPPTTL, obs_start: 2007-01-01, obs_end: 2021-05-05\\nget_series_all_releases <2021-05-05 17:32:57.573913\\nrows= 171\\nseries: ICSA, obs_start: 2007-01-01, obs_end: 2021-05-05\\nget_series_all_releases <2021-05-05 17:32:58.313475\\nrows= 747\\nseries: CCSA, obs_start: 2007-01-01, obs_end: 2021-05-05\\nget_series_all_releases <2021-05-05 17:32:59.652127\\nrows= 746\\nseries: JTS1000JOL, obs_start: 2007-01-01, obs_end: 2021-05-05\\nget_series_all_releases <2021-05-05 17:33:01.250049\\nrows= 170\\nseries: JTS1000HIL, obs_start: 2007-01-01, obs_end: 2021-05-05\\nget_series_all_releases <2021-05-05 17:33:01.790611\\nrows= 170\\nseries: JTS1000TSL, obs_start: 2007-01-01, obs_end: 2021-05-05\\nget_series_all_releases <2021-05-05 17:33:02.272169\\nrows= 170\\nseries: CSCICP03USM665S, obs_start: 2007-01-01, obs_end: 2021-05-05\\nget_series_all_releases <2021-05-05 17:33:02.811627\\nrows= 171\\nseries: BSCICP03USM665S, obs_start: 2007-01-01, obs_end: 2021-05-05\\nget_series_all_releases <2021-05-05 17:33:05.345212\\nrows= 171\\nseries: UNRATE, obs_start: 2007-01-01, obs_end: 2021-05-05\\nget_series_all_releases <2021-05-05 17:33:08.029930\\nrows= 171\\nseries: UNEMPLOY, obs_start: 2007-01-01, obs_end: 2021-05-05\\nget_series_all_releases <2021-05-05 17:33:08.460517\\nrows= 171\\nseries: CLF16OV, obs_start: 2007-01-01, obs_end: 2021-05-05\\nget_series_all_releases <2021-05-05 17:33:08.981213\\nrows= 171\\nseries: UEMP27OV, obs_start: 2007-01-01, obs_end: 2021-05-05\\nget_series_all_releases <2021-05-05 17:33:09.522604\\nrows= 171\\nseries: U6Rate, obs_start: 2007-01-01, obs_end: 2021-05-05\\nget_series_all_releases <2021-05-05 17:33:09.979900\\nrows= 171\\nseries: CIVPART, obs_start: 2007-01-01, obs_end: 2021-05-05\\nget_series_all_releases <2021-05-05 17:33:10.326592\\nrows= 171\\nseries: LNS12032194, obs_start: 2007-01-01, obs_end: 2021-05-05\\nget_series_all_releases <2021-05-05 17:33:10.621105\\nrows= 171\\n              USPRIV      ICSA JTS1000JOL\\ndate                                     \\n2007-01-01  115137.0       NaN     4102.0\\n2007-01-06       NaN  322000.0        NaN\\n2007-01-13       NaN  295000.0        NaN\\n2007-01-20       NaN  337000.0        NaN\\n2007-01-27       NaN  309000.0        NaN\\n2007-02-01  115242.0       NaN     4069.0\\n2007-02-03       NaN  307000.0        NaN\\n2007-02-10       NaN  332000.0        NaN\\n2007-02-17       NaN  323000.0        NaN\\n2007-02-24       NaN  319000.0        NaN\\n              USPRIV      ICSA JTS1000JOL\\ndate                                     \\n2021-02-27       NaN  745000.0        NaN\\n2021-03-01  122507.0       NaN        NaN\\n2021-03-06       NaN  712000.0        NaN\\n2021-03-13       NaN  770000.0        NaN\\n2021-03-20       NaN  684000.0        NaN\\n2021-03-27       NaN  719000.0        NaN\\n2021-04-03       NaN  744000.0        NaN\\n2021-04-10       NaN  576000.0        NaN\\n2021-04-17       NaN  547000.0        NaN\\n2021-04-24       NaN  553000.0        NaN\\n2021-05-05 17:33:16.516486\\nversion 3.9.2 of Python\\nversion 1.20.1 of numpy\\nversion 1.2.3 of pd\\nversion 1.20.1 of np\\nversion 3.3.4 of mpl\\nversion 0.4.2 of fredapi\\nversion 2.0.1 of xlrd\\nversion 3.141.0 of selenium\\nversion 3.14.1 of webdriver\\nversion 2.2.1 of re\\nversion 0.7.1 of pn\\n0.4.2\\nseries: USPRIV, obs_start: 2007-01-01, obs_end: 2021-05-05\\nget_series_all_releases <2021-05-05 17:33:16.535408\\nrows= 171\\nseries: NPPTTL, obs_start: 2007-01-01, obs_end: 2021-05-05\\nget_series_all_releases <2021-05-05 17:33:17.377914\\nrows= 172\\nseries: ICSA, obs_start: 2007-01-01, obs_end: 2021-05-05\\nget_series_all_releases <2021-05-05 17:33:18.202520\\nrows= 747\\nseries: CCSA, obs_start: 2007-01-01, obs_end: 2021-05-05\\nget_series_all_releases <2021-05-05 17:33:19.459011\\nrows= 746\\nseries: JTS1000JOL, obs_start: 2007-01-01, obs_end: 2021-05-05\\nget_series_all_releases <2021-05-05 17:33:20.908911\\nrows= 170\\nseries: JTS1000HIL, obs_start: 2007-01-01, obs_end: 2021-05-05\\nget_series_all_releases <2021-05-05 17:33:21.437165\\nrows= 170\\nseries: JTS1000TSL, obs_start: 2007-01-01, obs_end: 2021-05-05\\nget_series_all_releases <2021-05-05 17:33:21.954705\\nrows= 170\\nseries: CSCICP03USM665S, obs_start: 2007-01-01, obs_end: 2021-05-05\\nget_series_all_releases <2021-05-05 17:33:22.462135\\nrows= 171\\nseries: BSCICP03USM665S, obs_start: 2007-01-01, obs_end: 2021-05-05\\nget_series_all_releases <2021-05-05 17:33:25.172376\\nrows= 171\\nseries: UNRATE, obs_start: 2007-01-01, obs_end: 2021-05-05\\nget_series_all_releases <2021-05-05 17:33:27.824531\\nrows= 171\\nseries: UNEMPLOY, obs_start: 2007-01-01, obs_end: 2021-05-05\\nget_series_all_releases <2021-05-05 17:33:28.208318\\nrows= 171\\nseries: CLF16OV, obs_start: 2007-01-01, obs_end: 2021-05-05\\nget_series_all_releases <2021-05-05 17:33:28.702053\\nrows= 171\\nseries: UEMP27OV, obs_start: 2007-01-01, obs_end: 2021-05-05\\nget_series_all_releases <2021-05-05 17:33:29.703208\\nrows= 171\\nseries: U6Rate, obs_start: 2007-01-01, obs_end: 2021-05-05\\nget_series_all_releases <2021-05-05 17:33:30.277476\\nrows= 171\\nseries: CIVPART, obs_start: 2007-01-01, obs_end: 2021-05-05\\nget_series_all_releases <2021-05-05 17:33:30.571223\\nrows= 171\\nseries: LNS12032194, obs_start: 2007-01-01, obs_end: 2021-05-05\\nget_series_all_releases <2021-05-05 17:33:30.877353\\nrows= 171\\n              USPRIV      ICSA JTS1000JOL\\ndate                                     \\n2007-01-01  115137.0       NaN     4102.0\\n2007-01-06       NaN  322000.0        NaN\\n2007-01-13       NaN  295000.0        NaN\\n2007-01-20       NaN  337000.0        NaN\\n2007-01-27       NaN  309000.0        NaN\\n2007-02-01  115242.0       NaN     4069.0\\n2007-02-03       NaN  307000.0        NaN\\n2007-02-10       NaN  332000.0        NaN\\n2007-02-17       NaN  323000.0        NaN\\n2007-02-24       NaN  319000.0        NaN\\n              USPRIV      ICSA JTS1000JOL\\ndate                                     \\n2021-03-01  122507.0       NaN        NaN\\n2021-03-06       NaN  712000.0        NaN\\n2021-03-13       NaN  770000.0        NaN\\n2021-03-20       NaN  684000.0        NaN\\n2021-03-27       NaN  719000.0        NaN\\n2021-04-01       NaN       NaN        NaN\\n2021-04-03       NaN  744000.0        NaN\\n2021-04-10       NaN  576000.0        NaN\\n2021-04-17       NaN  547000.0        NaN\\n2021-04-24       NaN  553000.0        NaN\\n2021-05-05 17:33:36.470612\\n'"
      ]
     },
     "execution_count": 29,
     "metadata": {},
     "output_type": "execute_result"
    }
   ],
   "source": [
    "nb_out.stdout"
   ]
  },
  {
   "cell_type": "code",
   "execution_count": null,
   "metadata": {},
   "outputs": [],
   "source": []
  }
 ],
 "metadata": {
  "kernelspec": {
   "display_name": "payems",
   "language": "python",
   "name": "payems"
  },
  "language_info": {
   "codemirror_mode": {
    "name": "ipython",
    "version": 3
   },
   "file_extension": ".py",
   "mimetype": "text/x-python",
   "name": "python",
   "nbconvert_exporter": "python",
   "pygments_lexer": "ipython3",
   "version": "3.9.2"
  }
 },
 "nbformat": 4,
 "nbformat_minor": 4
}
