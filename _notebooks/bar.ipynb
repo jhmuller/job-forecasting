{
 "cells": [
  {
   "cell_type": "code",
   "execution_count": 21,
   "metadata": {
    "ExecuteTime": {
     "end_time": "2020-11-23T19:19:01.374047Z",
     "start_time": "2020-11-23T19:19:01.367047Z"
    }
   },
   "outputs": [],
   "source": [
    "import os\n",
    "import sys\n",
    "import os\n",
    "import sys\n",
    "import datetime\n",
    "import pandas as pd\n",
    "import numpy as np\n",
    "with open(\"barout.txt\", mode=\"a\") as fp:\n",
    "    msg = str(datetime.datetime.now()) + \"\\n\"\n",
    "    fp.write(msg)"
   ]
  },
  {
   "cell_type": "code",
   "execution_count": 30,
   "metadata": {
    "ExecuteTime": {
     "end_time": "2020-11-23T19:19:32.402529Z",
     "start_time": "2020-11-23T19:19:32.399527Z"
    }
   },
   "outputs": [],
   "source": [
    "def bar(x):\n",
    "    return np.floor(x)"
   ]
  },
  {
   "cell_type": "code",
   "execution_count": 33,
   "metadata": {
    "ExecuteTime": {
     "end_time": "2020-11-23T19:19:49.963245Z",
     "start_time": "2020-11-23T19:19:49.959213Z"
    }
   },
   "outputs": [],
   "source": [
    "def foo(x):\n",
    "    y = bar(x)\n",
    "    return (y)"
   ]
  },
  {
   "cell_type": "code",
   "execution_count": 35,
   "metadata": {
    "ExecuteTime": {
     "end_time": "2020-11-23T19:19:57.042517Z",
     "start_time": "2020-11-23T19:19:57.031548Z"
    }
   },
   "outputs": [
    {
     "data": {
      "text/plain": [
       "10.0"
      ]
     },
     "execution_count": 35,
     "metadata": {},
     "output_type": "execute_result"
    }
   ],
   "source": [
    "foo(10.5)"
   ]
  },
  {
   "cell_type": "code",
   "execution_count": null,
   "metadata": {},
   "outputs": [],
   "source": []
  }
 ],
 "metadata": {
  "kernelspec": {
   "display_name": "Python 3",
   "language": "python",
   "name": "python3"
  },
  "language_info": {
   "codemirror_mode": {
    "name": "ipython",
    "version": 3
   },
   "file_extension": ".py",
   "mimetype": "text/x-python",
   "name": "python",
   "nbconvert_exporter": "python",
   "pygments_lexer": "ipython3",
   "version": "3.7.9"
  }
 },
 "nbformat": 4,
 "nbformat_minor": 4
}
