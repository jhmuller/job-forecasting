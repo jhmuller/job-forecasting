{
 "cells": [
  {
   "cell_type": "markdown",
   "metadata": {},
   "source": [
    "# Part 5 - University of Michigan Consumer Sentiment data\n",
    "\n",
    "- toc: True\n",
    "- badges: true\n",
    "- comments: true\n",
    "- categories: [jupyter]"
   ]
  },
  {
   "cell_type": "markdown",
   "metadata": {},
   "source": [
    "### I think they do a great job of documentation at the [site](https://data.sca.isr.umich.edu/survey-info.php).\n",
    "Also have a look at the [siki page](https://en.wikipedia.org/wiki/University_of_Michigan_Consumer_Sentiment_Index) about the survey and the data. In particular the references to [this](https://www.wsj.com/articles/university-of-michigan-inks-deal-to-end-early-release-of-survey-1412690643) and indirectly [this](https://www.wsj.com/articles/SB10001424127887324682204578515963191421602) about Thomson Reuters and others giving investors early access for a fee.\n",
    "\n",
    "In any case, you can see the question asking [sheet](https://data.sca.isr.umich.edu/fetchdoc.php?docid=24776) and more.\n",
    "I am interested in the responses about expectations.\n",
    "There seems like a lot of great information there but I am going to focus on the data on the components of the index and in particular the 3 questions related to expectations\n",
    "* x2= PEXP_R = \"Now looking ahead--do you think that a year from now you (and your family living\n",
    "there) will be better off financially, or worse off, or just about the same as now?\"\n",
    "* x3= BUS12_R = \"Now turning to business conditions in the country as a whole--do you think that\n",
    "during the next twelve months we'll have good times financially, or bad times, or\n",
    "what?\"\n",
    "* x4= BUS5_R = \"Looking ahead, which would you say is more likely--that in the country as a whole\n",
    "we'll have continuous good times during the next five years or so, or that we will\n",
    "have periods of widespread unemployment or depression, or what?\"\n",
    "\n",
    "They compute a weighted average called the Index of Consumer Expectations, or ICE, as follows\n",
    "\n",
    "ICE = ((x2 + x3 + x4)/4.1134) + 2\n",
    "<sup>[1](#myfootnote1)</sup>\n",
    "\n",
    "I'm sure somewhere in the documentation they explain why they divide by 4.1134 and add 2 but I'll probably just use the 3 individual variables.  We'll see.\n",
    "\n",
    "<a name=\"myfootnote1\">1</a>: Notice I put in the parentesis to avoid issues like [this](https://www.nytimes.com/2019/08/02/science/math-equation-pedmas-bemdas-bedmas.html#:~:text=To%20help%20students%20in%20the,%2C%20division%2C%20addition%2C%20subtraction).\n",
    "If the link doesn't work search for \"The Math equation that stumped the internet\")\n"
   ]
  },
  {
   "cell_type": "markdown",
   "metadata": {},
   "source": [
    "First the bolerplate Python I use for most notebooks.  It's evolving."
   ]
  },
  {
   "cell_type": "code",
   "execution_count": null,
   "metadata": {
    "ExecuteTime": {
     "start_time": "2020-11-04T12:25:04.824Z"
    }
   },
   "outputs": [],
   "source": [
    "import os\n",
    "import sys\n",
    "import datetime\n",
    "import time\n",
    "import re\n",
    "import inspect\n",
    "import pandas as pd\n",
    "from plotnine import ggplot\n",
    "import matplotlib as mpl\n",
    "import matplotlib.pyplot as plt\n",
    "import selenium\n",
    "from selenium import webdriver\n",
    "from selenium.webdriver.support.ui import Select"
   ]
  },
  {
   "cell_type": "markdown",
   "metadata": {},
   "source": [
    "I like to see version numbers for modules ... and for Python."
   ]
  },
  {
   "cell_type": "code",
   "execution_count": null,
   "metadata": {
    "ExecuteTime": {
     "start_time": "2020-11-04T12:25:06.407Z"
    }
   },
   "outputs": [],
   "source": [
    "mlist = list(filter(lambda x: inspect.ismodule(x[1]), locals().items()))\n",
    "vi = sys.version_info\n",
    "print(\"version {0}.{1}.{2} of Python\".format(vi.major, vi.minor, vi.micro))\n",
    "for name, mod in mlist:\n",
    "    if name.startswith(\"__\"):\n",
    "        continue\n",
    "    if hasattr(mod, \"__version__\"):\n",
    "        print(\"version {1} of {0}\".format(name, mod.__version__))\n",
    "del mod\n",
    "del name"
   ]
  },
  {
   "cell_type": "markdown",
   "metadata": {},
   "source": [
    "## Selenium to automate downloading\n",
    "It's easy to get the data from the site, can be done via the following steps.\n",
    "1. Navigate to https://data.sca.isr.umich.edu/data-archive/mine.php\n",
    "<sup>[2](#myfootnote1)</sup>\n",
    "2. For **Table** select **Table 5: Components of the Index of Consumer Sentiment**.\n",
    "3. Click **Comma-Separated(CSV)** under format and it should start downloading.\n",
    "\n",
    "But I want to automate the process and we will using Selenium. \n",
    "Selenium allows us to control a web browser from Pyhon so I can use Python to execute all the steps above.\n",
    "\n",
    "<a name=\"myfootnote1\">2</a>: Note that if you start at the main site you might need to click on **Data** and select *Time Series* in the dropdown."
   ]
  },
  {
   "cell_type": "markdown",
   "metadata": {},
   "source": [
    "## Download Directory\n",
    "I want to have the data downloaded into a subdirectory below here rather than the default *Downloads* directory.\n",
    "We can arrange that using ChromeOptions."
   ]
  },
  {
   "cell_type": "code",
   "execution_count": null,
   "metadata": {
    "ExecuteTime": {
     "start_time": "2020-11-04T12:25:10.983Z"
    }
   },
   "outputs": [],
   "source": [
    "data_dir = \"./data\"\n",
    "if not os.path.isdir(data_dir):\n",
    "    os.mkdir(data_dir)\n",
    "prefs = {\"download.default_directory\" : os.path.abspath(data_dir)}\n",
    "\n",
    "options = webdriver.ChromeOptions()\n",
    "options.add_experimental_option(\"prefs\",prefs)\n",
    "options.add_argument(\"download.default_directory=\"+os.path.abspath(data_dir))"
   ]
  },
  {
   "cell_type": "markdown",
   "metadata": {},
   "source": [
    "## Step 1, going to the site\n",
    "You can run Selenium in what is called *headless* mode where you don't get a window for the browser.\n",
    "But I still find it cool to see a new browser pop up so I won't use that now.\n",
    "And it's nice in the early stages to see what is actually happening.\n",
    "Probably will change once the novelty wears off.\n",
    "\n",
    "### chromedriver\n",
    "With Selenium you have a choice of which browser to use, e.g. Chrome, Firefox et cetera.  I'll use Chrome.  Whatever the choice we'll need a *driver*.  Google it if you are interested.\n",
    "I downloaded the chromedriver and put it in a sibling directory under *chromedriver_win32* so it is easy to find for others projects using Selenium.\n",
    "\n",
    "Here I am doing step 1 from above."
   ]
  },
  {
   "cell_type": "code",
   "execution_count": null,
   "metadata": {
    "ExecuteTime": {
     "end_time": "2020-11-02T14:27:12.604308Z",
     "start_time": "2020-11-02T14:27:08.512191Z"
    }
   },
   "outputs": [],
   "source": [
    "chromedriver_path = os.path.join('../../chromedriver_win32/chromedriver.exe')\n",
    "driver = webdriver.Chrome(executable_path=chromedriver_path, options=options)\n",
    "url = \"https://data.sca.isr.umich.edu/data-archive/mine.php\"\n",
    "driver.get(url)\n",
    "print(options)"
   ]
  },
  {
   "cell_type": "markdown",
   "metadata": {},
   "source": [
    "## Step 2: selecting Table 5\n",
    "There are plenty of tutorials on using Selenium to make selections and click buttons.\n",
    "I can't remember which ones I used. Most likely I just googled what I wanted to do.\n",
    "\n",
    "In any case, here I am finding the selection section on the page and choosing option 5."
   ]
  },
  {
   "cell_type": "code",
   "execution_count": null,
   "metadata": {
    "ExecuteTime": {
     "end_time": "2020-11-02T14:27:12.798307Z",
     "start_time": "2020-11-02T14:27:12.607307Z"
    },
    "scrolled": true
   },
   "outputs": [],
   "source": [
    "# Locate the Sector and create a Select object\n",
    "select_element = Select(driver.find_element_by_css_selector(\"select\"))\n",
    "# this will print out strings available for selection on select_element, used in visible text below\n",
    "select_element.select_by_index(5)"
   ]
  },
  {
   "cell_type": "markdown",
   "metadata": {
    "ExecuteTime": {
     "end_time": "2020-11-02T13:52:30.675206Z",
     "start_time": "2020-11-02T13:52:30.668204Z"
    }
   },
   "source": [
    "## Step 3: Selecting *Comma-Separated(CSV)*\n",
    "Have to each through the elements of the page to find the right button"
   ]
  },
  {
   "cell_type": "code",
   "execution_count": null,
   "metadata": {
    "ExecuteTime": {
     "end_time": "2020-11-02T14:28:46.892920Z",
     "start_time": "2020-11-02T14:28:43.073101Z"
    }
   },
   "outputs": [],
   "source": [
    "# get the path to the most recently downloaded file\n",
    "# just in case there are lots of files in teh download directory\n",
    "# and since I don't know what the name of the downloaded file will be\n",
    "def get_downloaded_fpath(dir=None, files_before=None, file_ext=\".csv\",\n",
    "                   max_wait = 10, verbose=True):\n",
    "    import time\n",
    "    done = False\n",
    "    start_time = datetime.datetime.now()\n",
    "    while not done:\n",
    "        files_after = set(os.listdir(dir))\n",
    "        new_files = files_after.difference(set(files_before))\n",
    "        print(new_files)\n",
    "        for fname in new_files:\n",
    "            if os.path.splitext(fname)[1] == file_ext:\n",
    "                return (os.path.join(dir, fname))\n",
    "        cur_time = datetime.datetime.now()\n",
    "        if (cur_time - start_time).seconds > 10:\n",
    "            return None\n",
    "        time.sleep(0.5)\n",
    "                \n",
    "elements = driver.find_elements_by_name(\"format\")\n",
    "button = None\n",
    "for e in elements:\n",
    "    if e.get_property(\"value\") == 'Comma-Separated (CSV)':\n",
    "        button = e\n",
    "        break\n",
    "if not button:\n",
    "    raise RuntimeError(\"Error downloading Consumer Sentiment data from {0}\".format(url))\n",
    "            \n",
    "files_before = set(os.listdir(data_dir))\n",
    "button.click()\n",
    "fpath = get_downloaded_fpath(dir=data_dir, files_before=files_before, file_ext=\".csv\", max_wait=10)\n",
    "print(fpath)"
   ]
  },
  {
   "cell_type": "code",
   "execution_count": null,
   "metadata": {
    "ExecuteTime": {
     "end_time": "2020-11-02T03:36:40.795758Z",
     "start_time": "2020-11-02T03:36:40.709758Z"
    }
   },
   "outputs": [],
   "source": [
    "df = pd.read_csv(fpath, skiprows=1)\n",
    "df.drop(df.columns[-1], inplace=True, axis=1)\n",
    "df['Datetime'] = (100*100*df['Year'] + 100*df[\"Month\"] + 15).astype(str)\n",
    "df['Datetime'] = pd.to_datetime(df['Datetime'])\n",
    "df.drop([\"Month\", \"Year\"],  inplace=True, axis=1)\n",
    "print(df.agg(['min', 'max']))\n",
    "df.set_index(\"Datetime\", inplace=True)\n",
    "df.head()\n",
    "exp_columns = [c for c in df.columns if re.search(\"xpected|12 Months\", c)]\n",
    "                                             "
   ]
  },
  {
   "cell_type": "code",
   "execution_count": null,
   "metadata": {
    "ExecuteTime": {
     "end_time": "2020-11-02T03:36:53.573644Z",
     "start_time": "2020-11-02T03:36:52.809650Z"
    }
   },
   "outputs": [],
   "source": [
    "df[exp_columns].plot(figsize=[16,4], marker='.', grid=True)\n",
    "plt.gca().set_ylim(bottom=0)"
   ]
  },
  {
   "cell_type": "code",
   "execution_count": null,
   "metadata": {},
   "outputs": [],
   "source": []
  }
 ],
 "metadata": {
  "kernelspec": {
   "display_name": "Python 3",
   "language": "python",
   "name": "python3"
  },
  "language_info": {
   "codemirror_mode": {
    "name": "ipython",
    "version": 3
   },
   "file_extension": ".py",
   "mimetype": "text/x-python",
   "name": "python",
   "nbconvert_exporter": "python",
   "pygments_lexer": "ipython3",
   "version": "3.8.5"
  }
 },
 "nbformat": 4,
 "nbformat_minor": 4
}
